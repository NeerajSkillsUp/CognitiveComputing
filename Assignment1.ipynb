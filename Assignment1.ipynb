{
  "nbformat": 4,
  "nbformat_minor": 0,
  "metadata": {
    "colab": {
      "provenance": []
    },
    "kernelspec": {
      "name": "python3",
      "display_name": "Python 3"
    },
    "language_info": {
      "name": "python"
    }
  },
  "cells": [
    {
      "cell_type": "markdown",
      "source": [],
      "metadata": {
        "id": "sGp1mDL_XJEC"
      }
    },
    {
      "cell_type": "markdown",
      "source": [
        "Asg 1"
      ],
      "metadata": {
        "id": "eYPlIKJqXDnd"
      }
    },
    {
      "cell_type": "code",
      "source": [
        "n=3\n",
        "i=0\n",
        "while i<n:\n",
        "  print(\"Neeraj\")\n",
        "  i=i+1"
      ],
      "metadata": {
        "colab": {
          "base_uri": "https://localhost:8080/"
        },
        "id": "TaG8OJM0XSZC",
        "outputId": "3b741f4a-b416-424f-c8a7-4f7426aa1b06"
      },
      "execution_count": null,
      "outputs": [
        {
          "output_type": "stream",
          "name": "stdout",
          "text": [
            "Neeraj\n",
            "Neeraj\n",
            "Neeraj\n"
          ]
        }
      ]
    },
    {
      "cell_type": "markdown",
      "source": [
        "Asg 2"
      ],
      "metadata": {
        "id": "ofkMmr_3YqWS"
      }
    },
    {
      "cell_type": "code",
      "source": [
        "a=14\n",
        "b=17\n",
        "c=19\n",
        "result=a+b+c\n",
        "print(f\"summ of {a}+{b}+{c} = {result}\")"
      ],
      "metadata": {
        "colab": {
          "base_uri": "https://localhost:8080/"
        },
        "id": "Wy5_Qh3lYtii",
        "outputId": "4bbaecdb-d89f-46fb-af1f-8ebe2381229a"
      },
      "execution_count": null,
      "outputs": [
        {
          "output_type": "stream",
          "name": "stdout",
          "text": [
            "sum of 14+17+19 = 50\n"
          ]
        }
      ]
    },
    {
      "cell_type": "code",
      "source": [
        "a=\"good\"\n",
        "b=\"night\"\n",
        "c=\"dear\"\n",
        "str=a+\" \"+b+\" \"+c\n",
        "print(f\"combined string is : {str}\")"
      ],
      "metadata": {
        "colab": {
          "base_uri": "https://localhost:8080/"
        },
        "id": "zwgQKY6DZxYp",
        "outputId": "bdf83eb3-bda2-4dce-d4e1-57e8b7b00208"
      },
      "execution_count": null,
      "outputs": [
        {
          "output_type": "stream",
          "name": "stdout",
          "text": [
            "combined string is : good night dear\n"
          ]
        }
      ]
    },
    {
      "cell_type": "markdown",
      "source": [
        "Asg 4"
      ],
      "metadata": {
        "id": "bKG2de9Zmr2N"
      }
    },
    {
      "cell_type": "code",
      "source": [
        "for i in range(1,11):\n",
        "  print(f\"7 * {i} = {7*i} \\t\\t\\t\\t\\t\\t\\t\\t 9 * {i} = {9*i}\")\n"
      ],
      "metadata": {
        "colab": {
          "base_uri": "https://localhost:8080/"
        },
        "id": "_AIRwPt7mtjz",
        "outputId": "5f8271df-154e-4319-f5f2-c9499351af53"
      },
      "execution_count": null,
      "outputs": [
        {
          "output_type": "stream",
          "name": "stdout",
          "text": [
            "7 * 1 = 7 \t\t\t\t\t\t\t\t 9 * 1 = 9\n",
            "7 * 2 = 14 \t\t\t\t\t\t\t\t 9 * 2 = 18\n",
            "7 * 3 = 21 \t\t\t\t\t\t\t\t 9 * 3 = 27\n",
            "7 * 4 = 28 \t\t\t\t\t\t\t\t 9 * 4 = 36\n",
            "7 * 5 = 35 \t\t\t\t\t\t\t\t 9 * 5 = 45\n",
            "7 * 6 = 42 \t\t\t\t\t\t\t\t 9 * 6 = 54\n",
            "7 * 7 = 49 \t\t\t\t\t\t\t\t 9 * 7 = 63\n",
            "7 * 8 = 56 \t\t\t\t\t\t\t\t 9 * 8 = 72\n",
            "7 * 9 = 63 \t\t\t\t\t\t\t\t 9 * 9 = 81\n",
            "7 * 10 = 70 \t\t\t\t\t\t\t\t 9 * 10 = 90\n"
          ]
        }
      ]
    },
    {
      "cell_type": "code",
      "source": [
        "n=int(input(\"Enter a number : \"))\n",
        "for i in range(1,11):\n",
        "  print(f\"{n} * {i} = {n*i}\")"
      ],
      "metadata": {
        "colab": {
          "base_uri": "https://localhost:8080/"
        },
        "id": "K-NmFA1tot4r",
        "outputId": "8e9baa03-f4c1-435e-cef4-0b06cab5aa1e"
      },
      "execution_count": null,
      "outputs": [
        {
          "output_type": "stream",
          "name": "stdout",
          "text": [
            "Enter a number : 11\n",
            "11 * 1 = 11\n",
            "11 * 2 = 22\n",
            "11 * 3 = 33\n",
            "11 * 4 = 44\n",
            "11 * 5 = 55\n",
            "11 * 6 = 66\n",
            "11 * 7 = 77\n",
            "11 * 8 = 88\n",
            "11 * 9 = 99\n",
            "11 * 10 = 110\n"
          ]
        }
      ]
    },
    {
      "cell_type": "code",
      "source": [
        "n=int(input(\"Enter a number : \"))\n",
        "s=0\n",
        "for i in range(1,n+1):\n",
        "  s=s+i\n",
        "print(f\"Summ of numbers from 1 to {n} is = {s}\")"
      ],
      "metadata": {
        "colab": {
          "base_uri": "https://localhost:8080/"
        },
        "id": "C83ZUHQ3pGzL",
        "outputId": "4e378a57-6aee-44a2-87a9-a9cf829545c5"
      },
      "execution_count": null,
      "outputs": [
        {
          "output_type": "stream",
          "name": "stdout",
          "text": [
            "Enter a number : 10\n",
            "Sum of numbers from 1 to 10 is = 55\n"
          ]
        }
      ]
    },
    {
      "cell_type": "markdown",
      "source": [
        "Asg 5"
      ],
      "metadata": {
        "id": "cL0-zMC7qiIH"
      }
    },
    {
      "cell_type": "code",
      "source": [
        "a=int(input(\"Enter 1st num : \"))\n",
        "b=int(input(\"Enter 2nd num : \"))\n",
        "c=int(input(\"Enter 3rd num : \"))\n",
        "maxx=max(a,max(b,c))\n",
        "print(f\"maximum value is = {maxx}\")"
      ],
      "metadata": {
        "colab": {
          "base_uri": "https://localhost:8080/"
        },
        "id": "lx5qV8S9qspL",
        "outputId": "eeb08447-791b-4b82-de42-845ff87e2c57"
      },
      "execution_count": null,
      "outputs": [
        {
          "output_type": "stream",
          "name": "stdout",
          "text": [
            "Enter 1st num : -14\n",
            "Enter 2nd num : -17\n",
            "Enter 3rd num : -16\n",
            "maximum value is = -14\n"
          ]
        }
      ]
    },
    {
      "cell_type": "code",
      "source": [
        "n=int(input(\"Enter a number : \"))\n",
        "for i in range(1,n):\n",
        "  if i%7==0 and i%9==0:\n",
        "    print(f\"{i} is divisible by both 7 and 9\")"
      ],
      "metadata": {
        "colab": {
          "base_uri": "https://localhost:8080/"
        },
        "id": "8_MzSo6vrT1_",
        "outputId": "232a6f48-7776-4ae5-ae57-e79f96b7a72a"
      },
      "execution_count": null,
      "outputs": [
        {
          "output_type": "stream",
          "name": "stdout",
          "text": [
            "Enter a number : 976\n",
            "63 is divisible by both 7 and 9\n",
            "126 is divisible by both 7 and 9\n",
            "189 is divisible by both 7 and 9\n",
            "252 is divisible by both 7 and 9\n",
            "315 is divisible by both 7 and 9\n",
            "378 is divisible by both 7 and 9\n",
            "441 is divisible by both 7 and 9\n",
            "504 is divisible by both 7 and 9\n",
            "567 is divisible by both 7 and 9\n",
            "630 is divisible by both 7 and 9\n",
            "693 is divisible by both 7 and 9\n",
            "756 is divisible by both 7 and 9\n",
            "819 is divisible by both 7 and 9\n",
            "882 is divisible by both 7 and 9\n",
            "945 is divisible by both 7 and 9\n"
          ]
        }
      ]
    },
    {
      "cell_type": "code",
      "source": [
        "n=int(input(\"Enter a number : \"))\n",
        "for i in range(2,n+1):\n",
        "  count=0\n",
        "  for j in range(2,i//2+1):\n",
        "    if i%j==0:\n",
        "      count=count+1\n",
        "      if count>0:\n",
        "        break\n",
        "  if count==0:\n",
        "    print(i)\n",
        "\n"
      ],
      "metadata": {
        "colab": {
          "base_uri": "https://localhost:8080/"
        },
        "id": "h9pm6lposYXk",
        "outputId": "6f5b76eb-f4bc-4f28-e64b-92447fe34397"
      },
      "execution_count": null,
      "outputs": [
        {
          "output_type": "stream",
          "name": "stdout",
          "text": [
            "Enter a number : 40\n",
            "2\n",
            "3\n",
            "5\n",
            "7\n",
            "11\n",
            "13\n",
            "17\n",
            "19\n",
            "23\n",
            "29\n",
            "31\n",
            "37\n"
          ]
        }
      ]
    },
    {
      "cell_type": "markdown",
      "source": [
        "Asg 6"
      ],
      "metadata": {
        "id": "eL-7Mq5iqcSO"
      }
    },
    {
      "cell_type": "code",
      "source": [
        "n=int(input(\"Enter a number : \"))\n",
        "def addOdd(n):\n",
        "  s=0\n",
        "  for i in range(1,n+1):\n",
        "    if i%2!=0:\n",
        "      s=s+i\n",
        "  return s\n",
        "\n",
        "print(addOdd(n))"
      ],
      "metadata": {
        "colab": {
          "base_uri": "https://localhost:8080/"
        },
        "id": "Gpao_7x9qeBZ",
        "outputId": "47fed606-6962-4e66-9c40-0abac763ab85"
      },
      "execution_count": null,
      "outputs": [
        {
          "output_type": "stream",
          "name": "stdout",
          "text": [
            "Enter a number : 15\n",
            "64\n"
          ]
        }
      ]
    },
    {
      "cell_type": "code",
      "source": [
        "n=int(input(\"Enter a number : \"))\n",
        "def addPrime(n):\n",
        "  s=0\n",
        "  for i in range(2,n+1):\n",
        "    count=0\n",
        "    for j in range(2,i//2+1):\n",
        "      if i%j==0:\n",
        "        count=count+1\n",
        "        break\n",
        "    if count==0:\n",
        "      s=s+i\n",
        "  return s\n",
        "\n",
        "print(addPrime(n))"
      ],
      "metadata": {
        "colab": {
          "base_uri": "https://localhost:8080/"
        },
        "id": "0SPPaPt0ovZN",
        "outputId": "55f1b13b-1cb8-4557-a480-77c5e551138e"
      },
      "execution_count": null,
      "outputs": [
        {
          "output_type": "stream",
          "name": "stdout",
          "text": [
            "Enter a number : 14\n",
            "41\n"
          ]
        }
      ]
    }
  ]
}