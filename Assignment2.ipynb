{
  "nbformat": 4,
  "nbformat_minor": 0,
  "metadata": {
    "colab": {
      "provenance": []
    },
    "kernelspec": {
      "name": "python3",
      "display_name": "Python 3"
    },
    "language_info": {
      "name": "python"
    }
  },
  "cells": [
    {
      "cell_type": "markdown",
      "source": [
        "# Asgmnt 2"
      ],
      "metadata": {
        "id": "GurHzqVXVGlP"
      }
    },
    {
      "cell_type": "markdown",
      "source": [
        "*Ques 1*"
      ],
      "metadata": {
        "id": "IR3ZUlqtVXlU"
      }
    },
    {
      "cell_type": "code",
      "execution_count": null,
      "metadata": {
        "colab": {
          "base_uri": "https://localhost:8080/"
        },
        "id": "w9R-eDutVAEY",
        "outputId": "9be6e352-7a38-412c-e951-584f04fe12b9"
      },
      "outputs": [
        {
          "output_type": "stream",
          "name": "stdout",
          "text": [
            "list after adding 200 and 300 :  [10, 20, 30, 40, 21, 60, 70, 80, 200, 300]\n",
            "list after removing 10 and 30 :  [20, 40, 21, 60, 70, 80, 200, 300]\n",
            "list after sorting ASC :         [20, 21, 40, 60, 70, 80, 200, 300]\n",
            "list after sorting DSC :         [300, 200, 80, 70, 60, 40, 21, 20]\n"
          ]
        }
      ],
      "source": [
        "L=[10,20,30,40,21,60,70,80]\n",
        "L.append(200)\n",
        "L.append(300)\n",
        "print(\"list after adding 200 and 300 : \",L)\n",
        "L.remove(10)\n",
        "L.remove(30)\n",
        "print(\"list after removing 10 and 30 : \",L)\n",
        "L.sort()\n",
        "print(\"list after sorting ASC :        \",L)\n",
        "L.sort(reverse=True)\n",
        "print(\"list after sorting DSC :        \",L)"
      ]
    },
    {
      "cell_type": "markdown",
      "source": [
        "*Ques 2*"
      ],
      "metadata": {
        "id": "0X7oYYutaVtc"
      }
    },
    {
      "cell_type": "code",
      "source": [
        "scores=(45,89.5,76,45.4,89,92,58,45)\n",
        "a=max(scores)\n",
        "print(f\"{a} is maximum and found at index : {scores.index(a)}\")\n",
        "b=min(scores)\n",
        "print(f\"{b} is minimum and it's count is : {scores.count(b)}\")\n",
        "print(type(scores))\n",
        "scores=list(reversed(scores))\n",
        "print(\"list after reversing tuple : \",scores)\n",
        "print(type(scores))\n",
        "scores=tuple(scores)\n",
        "x=int(input(\"Enter a number : \"))\n",
        "if x in scores:\n",
        "    print(f\"{x} is present in the tuple at index (after previous reverse operation): {scores.index(x)}\")\n",
        "else:\n",
        "    print(f\"{x} is not present in the tuple\")"
      ],
      "metadata": {
        "colab": {
          "base_uri": "https://localhost:8080/"
        },
        "id": "QEU2iJrzaUII",
        "outputId": "01ed42ad-1464-45bd-87e2-b14d9b4ed9e0"
      },
      "execution_count": null,
      "outputs": [
        {
          "output_type": "stream",
          "name": "stdout",
          "text": [
            "92 is maximum and found at index : 5\n",
            "45 is minimum and it's count is : 2\n",
            "<class 'tuple'>\n",
            "list after reversing tuple :  [45, 58, 92, 89, 45.4, 76, 89.5, 45]\n",
            "<class 'list'>\n",
            "Enter a number : 45\n",
            "45 is present in the tuple at index (after previous reverse operation): 0\n"
          ]
        }
      ]
    },
    {
      "cell_type": "markdown",
      "source": [
        "*Ques 3*"
      ],
      "metadata": {
        "id": "RzqVow-KHcav"
      }
    },
    {
      "cell_type": "code",
      "source": [
        "import random\n",
        "L_odd=[]\n",
        "L_even=[]\n",
        "L_prime=[]\n",
        "L_original=random.sample(range(100,900),100)\n",
        "print(f\"L_original :           {L_original}\")\n",
        "print(\"\\n\")\n",
        "print(f\"length of list =       {len(L_original)}\")\n",
        "print(\"\\n\")\n",
        "for i in L:\n",
        "  if i%2==0:\n",
        "    L_even.append(i)\n",
        "print(f\"List of even numbers : {L_even}\")\n",
        "print(\"\\n\")\n",
        "for i in L:\n",
        "  if i%2!=0:\n",
        "    L_odd.append(i)\n",
        "print(f\"List of odd numbers :  {L_odd}\")\n",
        "print(\"\\n\")\n",
        "for n in L_original:\n",
        "  count=0\n",
        "  for i in range(2,n//2+1):\n",
        "    if n%i==0:\n",
        "      count=count+1\n",
        "      break\n",
        "  if count==0 and n!=1:\n",
        "    L_prime.append(n)\n",
        "\n",
        "print(f\"List of prime numbers :  {L_prime}\")\n",
        "print(\"\\n\")"
      ],
      "metadata": {
        "colab": {
          "base_uri": "https://localhost:8080/"
        },
        "id": "vUXcWcKPHbEn",
        "outputId": "7466fe23-c06c-48b5-ce81-91a57bf5b736"
      },
      "execution_count": 59,
      "outputs": [
        {
          "output_type": "stream",
          "name": "stdout",
          "text": [
            "L_original :           [589, 700, 407, 144, 250, 401, 632, 138, 780, 370, 409, 584, 845, 513, 192, 688, 393, 307, 285, 543, 550, 588, 774, 478, 174, 114, 567, 245, 329, 759, 360, 803, 420, 202, 630, 327, 617, 831, 337, 692, 888, 194, 600, 125, 734, 406, 486, 382, 140, 376, 119, 507, 871, 548, 551, 792, 814, 659, 842, 368, 652, 682, 333, 175, 295, 713, 391, 712, 356, 439, 736, 779, 578, 369, 830, 152, 378, 380, 628, 710, 646, 744, 537, 745, 673, 723, 616, 811, 629, 763, 308, 645, 637, 594, 243, 698, 523, 751, 587, 239]\n",
            "\n",
            "\n",
            "length of list =       100\n",
            "\n",
            "\n",
            "List of even numbers : [438, 734, 778, 792, 304, 274, 756, 842, 372, 560, 508, 826, 816, 840, 766, 378, 164, 172, 466, 898, 110, 140, 286, 642, 176, 532, 804, 410, 130, 306, 834, 748, 486, 680, 746, 134, 850, 506, 118, 764, 758, 272, 416, 106, 690, 718, 252, 648, 120, 794, 228, 126, 460, 536, 202, 674, 742]\n",
            "\n",
            "\n",
            "List of odd numbers :  [125, 183, 301, 871, 555, 771, 117, 393, 357, 175, 101, 119, 469, 263, 487, 755, 223, 167, 609, 635, 345, 505, 383, 153, 697, 475, 619, 515, 777, 593, 549, 879, 409, 121, 603, 839, 419, 541, 599, 499, 113, 503, 519]\n",
            "\n",
            "\n",
            "List of prime numbers :  [401, 409, 307, 617, 337, 659, 439, 673, 811, 523, 751, 587, 239]\n",
            "\n",
            "\n"
          ]
        }
      ]
    },
    {
      "cell_type": "markdown",
      "source": [
        "*Ques 4*"
      ],
      "metadata": {
        "id": "QTZmP3epaGhi"
      }
    },
    {
      "cell_type": "code",
      "source": [
        "from os import remove\n",
        "A={34,56,78,90}\n",
        "B={78,45,90,23}\n",
        "print(f\"(A v B) :          {A.union(B)}\")\n",
        "print(f\"(A ^ B) :          {A.intersection(B)}\")\n",
        "print(f\"(A - B) :          {A.difference(B)}\")\n",
        "print(f\"(B - A) :          {B.difference(A)}\")\n",
        "print(f\"(A-B) v (B-A) :    {A.symmetric_difference(B)}\")\n",
        "print(f\"A <= B :            {A.issubset(B)}\")\n",
        "print(f\"B >= A :            {B.issuperset(A)}\")\n",
        "x=int(input(\"Enter a number : \"))\n",
        "#A.remove(45)  will give Keyerror as 45 is not present in set A\n",
        "A.discard(45)         #okay work fine with no error\n",
        "if x in A:\n",
        "  A.remove(x)\n",
        "  print(f\"{x} is removed from set A\")\n",
        "else:\n",
        "  print(f\"{x} is not present in set A\")\n",
        "print(A)"
      ],
      "metadata": {
        "colab": {
          "base_uri": "https://localhost:8080/"
        },
        "id": "JfjgtDLpaMQv",
        "outputId": "fdc25277-d958-4c2d-b1f3-420105b10272"
      },
      "execution_count": 90,
      "outputs": [
        {
          "output_type": "stream",
          "name": "stdout",
          "text": [
            "(A v B) :          {34, 45, 78, 23, 56, 90}\n",
            "(A ^ B) :          {90, 78}\n",
            "(A - B) :          {56, 34}\n",
            "(B - A) :          {45, 23}\n",
            "(A-B) v (B-A) :    {34, 45, 23, 56}\n",
            "A <= B :            False\n",
            "B >= A :            False\n",
            "Enter a number : 56\n",
            "56 is removed from set A\n",
            "{34, 90, 78}\n"
          ]
        }
      ]
    },
    {
      "cell_type": "markdown",
      "source": [
        "*Ques 5*"
      ],
      "metadata": {
        "id": "5eGYjiFEk_qv"
      }
    },
    {
      "cell_type": "code",
      "source": [
        "sample_dict={\n",
        "    \"name\":\"Kelly\",\n",
        "    \"age\":25,\n",
        "    \"salary\":8000,\n",
        "    \"city\":\"New York\"\n",
        "}\n",
        "# pop(key) delete key and return it's value\n",
        "sample_dict[\"location\"]=sample_dict.pop(\"city\")\n",
        "print(sample_dict)"
      ],
      "metadata": {
        "colab": {
          "base_uri": "https://localhost:8080/"
        },
        "id": "ltyaWnvulCe1",
        "outputId": "961f2b48-2691-4b56-b760-0d6ea9aaa767"
      },
      "execution_count": 101,
      "outputs": [
        {
          "output_type": "stream",
          "name": "stdout",
          "text": [
            "{'name': 'Kelly', 'age': 25, 'salary': 8000, 'location': 'New York'}\n"
          ]
        }
      ]
    }
  ]
}