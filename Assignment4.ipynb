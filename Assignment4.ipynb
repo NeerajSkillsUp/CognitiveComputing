{
  "nbformat": 4,
  "nbformat_minor": 0,
  "metadata": {
    "colab": {
      "provenance": []
    },
    "kernelspec": {
      "name": "python3",
      "display_name": "Python 3"
    },
    "language_info": {
      "name": "python"
    }
  },
  "cells": [
    {
      "cell_type": "markdown",
      "source": [
        "# Assignment 4"
      ],
      "metadata": {
        "id": "NOqeYijgV5aq"
      }
    },
    {
      "cell_type": "markdown",
      "source": [
        "Ques 1 :\n",
        "\n",
        "Write a program to create a NumPy 1D-array with 5 elements and perform basic operations like:\n",
        "\n",
        "a) Addition of 2 in all the element\n",
        "\n",
        "b) Multiply 3 with all the elements\n",
        "\n",
        "c) Divide every element by 2"
      ],
      "metadata": {
        "id": "zo53bcEPV_mt"
      }
    },
    {
      "cell_type": "code",
      "execution_count": 10,
      "metadata": {
        "colab": {
          "base_uri": "https://localhost:8080/"
        },
        "id": "x1JN_04hVgg4",
        "outputId": "cb36f427-4a44-47b0-c637-8bd736ebc750"
      },
      "outputs": [
        {
          "output_type": "stream",
          "name": "stdout",
          "text": [
            "Array elements : [56 42 24 48 50]\n",
            "Array after adding 2 to each element : [58 44 26 50 52]\n",
            "Array after multiplying 3 to each element : [168 126  72 144 150]\n",
            "Array after dividing each element by 2 : [28 21 12 24 25]\n"
          ]
        }
      ],
      "source": [
        "import numpy as np\n",
        "myarr=np.array([56,42,24,48,50])\n",
        "print(f\"Array elements : {myarr}\")\n",
        "# 1(a)\n",
        "myaddarr=myarr+2\n",
        "print(f\"Array after adding 2 to each element : {myaddarr}\")\n",
        "# 1(b)\n",
        "mymularr=myarr*3\n",
        "print(f\"Array after multiplying 3 to each element : {mymularr}\")\n",
        "# 1(c)\n",
        "mydivarr=myarr//2\n",
        "print(f\"Array after dividing each element by 2 : {mydivarr}\")\n"
      ]
    },
    {
      "cell_type": "markdown",
      "source": [
        "Ques 2 :\n",
        "\n",
        "Questions on Basic NumPy Array:\n",
        "\n",
        "a) Reverse the NumPy array: arr = np.array([1, 2, 3, 6, 4, 5])\n",
        "\n",
        "b) Find the most frequent value and their indice(s) in the following arrays:\n",
        "\n",
        "i. x = np.array([1,2,3,4,5,1,2,1,1,1])\n",
        "\n",
        "ii. y = np.array([1, 1, 1, 2, 3, 4, 2, 4, 3, 3, ])"
      ],
      "metadata": {
        "id": "mksCfnI5XVux"
      }
    },
    {
      "cell_type": "code",
      "source": [
        "import numpy as np\n",
        "arr=np.array([1,2,3,6,4,5])\n",
        "print(f\"Original array : {arr}\")\n",
        "# 2(a)\n",
        "revarr=np.flip(arr)\n",
        "print(f\"reversed array : {revarr}\")\n",
        "\n",
        "# 2(b)-(i)\n",
        "x=np.array([1,2,3,4,5,1,2,1,1,1,8])\n",
        "most_freq_x=np.bincount(x).argmax()\n",
        "most_freq_x_idxs=np.where(x==most_freq_x)[0]\n",
        "print(most_freq_x)\n",
        "print(most_freq_x_idxs)\n",
        "\n",
        "# 2(b)-(ii)\n",
        "y=np.array([1,1,1,2,3,4,2,4,3,3,3])\n",
        "most_freq_y=np.bincount(y).argmax()\n",
        "most_freq_y_idxs=np.where(y==most_freq_y)[0]\n",
        "print(most_freq_y)\n",
        "print(most_freq_y_idxs)\n",
        "print(type(most_freq_y_idxs))\n"
      ],
      "metadata": {
        "colab": {
          "base_uri": "https://localhost:8080/"
        },
        "id": "WlYuf7cOXXSy",
        "outputId": "240391e2-5ade-4fcb-a38b-c4db474dbf1f"
      },
      "execution_count": 44,
      "outputs": [
        {
          "output_type": "stream",
          "name": "stdout",
          "text": [
            "Original array : [1 2 3 6 4 5]\n",
            "reversed array : [5 4 6 3 2 1]\n",
            "1\n",
            "[0 5 7 8 9]\n",
            "3\n",
            "[ 4  8  9 10]\n",
            "<class 'numpy.ndarray'>\n"
          ]
        }
      ]
    },
    {
      "cell_type": "markdown",
      "source": [
        "Ques 3 :\n",
        "\n",
        "For the given 2-D array arr=np.array([10, 20, 30], [40, 50, 60], [70, 80, 90]), access\n",
        "elements using row and column indices as follows:\n",
        "\n",
        "a) Access 1st row, 2nd column\n",
        "\n",
        "b) Access 3rd row, 1st column"
      ],
      "metadata": {
        "id": "JKLm7oShdZr5"
      }
    },
    {
      "cell_type": "code",
      "source": [
        "import numpy as np\n",
        "arr=np.array([[10,20,30],\n",
        "              [40,50,60],\n",
        "              [70,80,90]])\n",
        "print(arr[0,1])\n",
        "print(arr[2,0])"
      ],
      "metadata": {
        "colab": {
          "base_uri": "https://localhost:8080/"
        },
        "id": "z8Ujl35vdf6S",
        "outputId": "6c92122d-24be-4c34-e8e4-a4b72963029a"
      },
      "execution_count": 37,
      "outputs": [
        {
          "output_type": "stream",
          "name": "stdout",
          "text": [
            "20\n",
            "70\n"
          ]
        }
      ]
    },
    {
      "cell_type": "markdown",
      "source": [
        "Ques 4 :\n",
        "\n",
        "Write program to create an 1-D NumPy array named <<your name>> with evenly\n",
        "spaced 25 numbers from 10 to 100 using linspace(). Print the dimensions of the array,\n",
        "shape, total elements, the data type of each element and total number of bytes consumed\n",
        "by the array. Find the transpose of this array using reshape() attribute. Can we do the same\n",
        "with T attribute?"
      ],
      "metadata": {
        "id": "-GTYNQ-8egW3"
      }
    },
    {
      "cell_type": "code",
      "source": [
        "import numpy as np\n",
        "neeraj=np.array(np.linspace(10,100,25))\n",
        "print(f\"25 numbers btw 10 and 100 equally spaced : \\n{neeraj}\")\n",
        "print(f\"shape : {neeraj.shape}\")\n",
        "print(f\"total elements : {neeraj.size}\")\n",
        "print(f\"data type of elements : {neeraj.dtype}\")\n",
        "print(f\"Total number of bytes consumed : {neeraj.nbytes}\")\n",
        "transpose_neeraj=np.reshape(neeraj,(25,1))\n",
        "print(f\" Transpose of neeraj : \\n{transpose_neeraj}\")\n",
        "print(f\" Transpose of transpose_neeraj : \\n{transpose_neeraj.T}\")"
      ],
      "metadata": {
        "colab": {
          "base_uri": "https://localhost:8080/"
        },
        "id": "3hajgxozehpu",
        "outputId": "a516e68d-78eb-4e18-c41d-43a9c11f44ca"
      },
      "execution_count": 85,
      "outputs": [
        {
          "output_type": "stream",
          "name": "stdout",
          "text": [
            "25 numbers btw 10 and 100 equally spaced : \n",
            "[ 10.    13.75  17.5   21.25  25.    28.75  32.5   36.25  40.    43.75\n",
            "  47.5   51.25  55.    58.75  62.5   66.25  70.    73.75  77.5   81.25\n",
            "  85.    88.75  92.5   96.25 100.  ]\n",
            "shape : (25,)\n",
            "total elements : 25\n",
            "data type of elements : float64\n",
            "Total number of bytes consumed : 200\n",
            " Transpose of neeraj : \n",
            "[[ 10.  ]\n",
            " [ 13.75]\n",
            " [ 17.5 ]\n",
            " [ 21.25]\n",
            " [ 25.  ]\n",
            " [ 28.75]\n",
            " [ 32.5 ]\n",
            " [ 36.25]\n",
            " [ 40.  ]\n",
            " [ 43.75]\n",
            " [ 47.5 ]\n",
            " [ 51.25]\n",
            " [ 55.  ]\n",
            " [ 58.75]\n",
            " [ 62.5 ]\n",
            " [ 66.25]\n",
            " [ 70.  ]\n",
            " [ 73.75]\n",
            " [ 77.5 ]\n",
            " [ 81.25]\n",
            " [ 85.  ]\n",
            " [ 88.75]\n",
            " [ 92.5 ]\n",
            " [ 96.25]\n",
            " [100.  ]]\n",
            " Transpose of transpose_neeraj : \n",
            "[[ 10.    13.75  17.5   21.25  25.    28.75  32.5   36.25  40.    43.75\n",
            "   47.5   51.25  55.    58.75  62.5   66.25  70.    73.75  77.5   81.25\n",
            "   85.    88.75  92.5   96.25 100.  ]]\n"
          ]
        }
      ]
    },
    {
      "cell_type": "markdown",
      "source": [
        "Ques 5 :\n",
        "\n",
        "Create a 2-D Array of three rows and four columns, named ucs420_<your_name>>\n",
        "with following values – 10, 20, 30, 40, 50, 60, 70, 80, 90, 15, 20, 35. Compute the mean,\n",
        "median, max, min, unique elements. Reshape the array to four rows and three columns and\n",
        "name it as reshaped_ ucs420_<your_name>>. Resize the array to two rows and three\n",
        "columns and name it as resized_ ucs420_<your_name>>."
      ],
      "metadata": {
        "id": "MmQFypfJkAQi"
      }
    },
    {
      "cell_type": "code",
      "source": [
        "import numpy as np\n",
        "ucs420_neeraj=np.array([[10,20,30,40],[50,60,70,80],[90,15,20,35]])\n",
        "print(f\"Original array : \\n{ucs420_neeraj}\")\n",
        "maxxx=np.max(ucs420_neeraj)\n",
        "print(f\"max element : {maxxx}\")\n",
        "minnn=np.min(ucs420_neeraj)\n",
        "print(f\"min element : {minnn}\")\n",
        "mean_ucs420_neeraj=np.mean(ucs420_neeraj)\n",
        "print(f\"mean of elements : {mean_ucs420_neeraj}\")\n",
        "median_ucs420_neeraj=np.median(ucs420_neeraj)\n",
        "print(f\"median of elements : {median_ucs420_neeraj}\")\n",
        "uniq_ucs420_neeraj=np.unique(ucs420_neeraj)\n",
        "print(f\"unique elements : {uniq_ucs420_neeraj}\")\n",
        "reshaped_ucs420_neeraj=np.reshape(ucs420_neeraj,(4,3))\n",
        "print(f\"reshaped : \\n{reshaped_ucs420_neeraj}\")\n",
        "resize_ucs420_neeraj=np.resize(ucs420_neeraj,(2,3))\n",
        "print(f\"resized : \\n{resize_ucs420_neeraj}\")"
      ],
      "metadata": {
        "colab": {
          "base_uri": "https://localhost:8080/"
        },
        "id": "zOby650qhTVA",
        "outputId": "c64e4877-fedd-4cd0-ca4f-33b314c14c02"
      },
      "execution_count": 88,
      "outputs": [
        {
          "output_type": "stream",
          "name": "stdout",
          "text": [
            "Original array : \n",
            "[[10 20 30 40]\n",
            " [50 60 70 80]\n",
            " [90 15 20 35]]\n",
            "max element : 90\n",
            "min element : 10\n",
            "mean of elements : 43.333333333333336\n",
            "median of elements : 37.5\n",
            "unique elements : [10 15 20 30 35 40 50 60 70 80 90]\n",
            "reshaped : \n",
            "[[10 20 30]\n",
            " [40 50 60]\n",
            " [70 80 90]\n",
            " [15 20 35]]\n",
            "resized : \n",
            "[[10 20 30]\n",
            " [40 50 60]]\n"
          ]
        }
      ]
    }
  ]
}