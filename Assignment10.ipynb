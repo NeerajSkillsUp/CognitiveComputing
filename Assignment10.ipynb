{
  "nbformat": 4,
  "nbformat_minor": 0,
  "metadata": {
    "colab": {
      "provenance": []
    },
    "kernelspec": {
      "name": "python3",
      "display_name": "Python 3"
    },
    "language_info": {
      "name": "python"
    }
  },
  "cells": [
    {
      "cell_type": "markdown",
      "source": [
        "Ques 1 : Write a unique paragraph (5-6 sentences) about your favorite topic (e.g., sports,\n",
        "technology, food, books, etc.).\n",
        "1. Convert text to lowercase and remove punctuation using re.\n",
        "2. Tokenize the text into words and sentences.\n",
        "3. Split using split() and word_tokenize() and compare how Python split and NLTK's\n",
        "word_tokenize() differ.\n",
        "4. Remove stopwords (using NLTK's stopwords list).\n",
        "5. Display word frequency distribution (excluding stopwords)."
      ],
      "metadata": {
        "id": "WcHQcQ2qYpZr"
      }
    },
    {
      "cell_type": "code",
      "execution_count": null,
      "metadata": {
        "colab": {
          "base_uri": "https://localhost:8080/"
        },
        "id": "JfXOmN2gX6sH",
        "outputId": "e33c60b5-c278-406e-fbe3-12ffeae58cfd"
      },
      "outputs": [
        {
          "output_type": "stream",
          "name": "stdout",
          "text": [
            "artificial intelligence is transforming industries worldwide from healthcare diagnostics to autonomous vehicles ai applications are growing exponentially machine learning algorithms can now predict diseases with remarkable accuracy natural language processing enables computers to understand human speech however ethical concerns about job displacement remain the future of ai promises both challenges and opportunities\n",
            "['artificial', 'intelligence', 'is', 'transforming', 'industries', 'worldwide', 'from', 'healthcare', 'diagnostics', 'to', 'autonomous', 'vehicles', 'ai', 'applications', 'are', 'growing', 'exponentially', 'machine', 'learning', 'algorithms', 'can', 'now', 'predict', 'diseases', 'with', 'remarkable', 'accuracy', 'natural', 'language', 'processing', 'enables', 'computers', 'to', 'understand', 'human', 'speech', 'however', 'ethical', 'concerns', 'about', 'job', 'displacement', 'remain', 'the', 'future', 'of', 'ai', 'promises', 'both', 'challenges', 'and', 'opportunities']\n",
            "['artificial', 'intelligence', 'is', 'transforming', 'industries', 'worldwide', 'from', 'healthcare', 'diagnostics', 'to', 'autonomous', 'vehicles', 'ai', 'applications', 'are', 'growing', 'exponentially', 'machine', 'learning', 'algorithms', 'can', 'now', 'predict', 'diseases', 'with', 'remarkable', 'accuracy', 'natural', 'language', 'processing', 'enables', 'computers', 'to', 'understand', 'human', 'speech', 'however', 'ethical', 'concerns', 'about', 'job', 'displacement', 'remain', 'the', 'future', 'of', 'ai', 'promises', 'both', 'challenges', 'and', 'opportunities']\n",
            "['Artificial Intelligence is transforming industries worldwide.', 'From healthcare diagnostics to autonomous vehicles, AI applications are growing exponentially.', 'Machine learning algorithms can now predict diseases with remarkable accuracy.', 'Natural Language Processing enables computers to understand human speech.', 'However, ethical concerns about job displacement remain.', 'The future of AI promises both challenges and opportunities.']\n",
            "['artificial', 'intelligence', 'transforming', 'industries', 'worldwide', 'healthcare', 'diagnostics', 'autonomous', 'vehicles', 'ai', 'applications', 'growing', 'exponentially', 'machine', 'learning', 'algorithms', 'predict', 'diseases', 'remarkable', 'accuracy', 'natural', 'language', 'processing', 'enables', 'computers', 'understand', 'human', 'speech', 'however', 'ethical', 'concerns', 'job', 'displacement', 'remain', 'future', 'ai', 'promises', 'challenges', 'opportunities']\n",
            "[('ai', 2), ('artificial', 1), ('intelligence', 1), ('transforming', 1), ('industries', 1)]\n"
          ]
        }
      ],
      "source": [
        "import re\n",
        "import nltk\n",
        "from nltk.tokenize import word_tokenize,sent_tokenize\n",
        "from nltk.corpus import stopwords\n",
        "from nltk.probability import FreqDist\n",
        "# nltk.download('punkt_tab')\n",
        "# nltk.download('stopwords')\n",
        "\n",
        "text = \"Artificial Intelligence is transforming industries worldwide. From healthcare diagnostics to autonomous vehicles, AI applications are growing exponentially. Machine learning algorithms can now predict diseases with remarkable accuracy. Natural Language Processing enables computers to understand human speech. However, ethical concerns about job displacement remain. The future of AI promises both challenges and opportunities.\"\n",
        "clean_text = re.sub(r'[^\\w\\s]','',text.lower())\n",
        "print(clean_text)\n",
        "\n",
        "words_split = clean_text.split()\n",
        "print(words_split)\n",
        "words_tokenized = word_tokenize(clean_text)\n",
        "print(words_tokenized)\n",
        "sentences = sent_tokenize(text)\n",
        "print(sentences)\n",
        "\n",
        "stop_words = set(stopwords.words('english'))\n",
        "filtered_words = [w for w in words_tokenized if w not in stop_words]\n",
        "print(filtered_words)\n",
        "\n",
        "fdist = FreqDist(filtered_words)\n",
        "print(fdist.most_common(5))"
      ]
    },
    {
      "cell_type": "markdown",
      "source": [
        "Ques 2 : Using the same paragraph from Q1:\n",
        "1. Extract all words with only alphabets using re.findall()\n",
        "2. Remove stop words using NLTK's stopword list\n",
        "3. Perform stemming with PorterStemmer\n",
        "4. Perform lemmatization with WordNetLemmatizer\n",
        "5. Compare the stemmed and lemmatized outputs and explain when you'd prefer one over\n",
        "the other."
      ],
      "metadata": {
        "id": "SFEMkwPubjCe"
      }
    },
    {
      "cell_type": "code",
      "source": [
        "from nltk.stem import PorterStemmer\n",
        "from nltk.stem import WordNetLemmatizer\n",
        "# nltk.download('wordnet')\n",
        "\n",
        "text = \"Artificial Intelligence is transforming industries worldwide. From healthcare diagnostics to autonomous vehicles, AI applications are growing exponentially. Machine learning algorithms can now predict diseases with remarkable accuracy. Natural Language Processing enables computers to understand human speech. However, ethical concerns about job displacement remain. The future of AI promises both challenges and opportunities.\"\n",
        "clean_text = re.sub(r'[^\\w\\s]','',text.lower())\n",
        "alpha_words = re.findall(r'\\b[a-z]+\\b',clean_text)\n",
        "words_tokenized = word_tokenize(clean_text)\n",
        "print(words_tokenized)\n",
        "\n",
        "stop_words = set(stopwords.words('english'))\n",
        "filtered_words = [w for w in words_tokenized if w not in stop_words]\n",
        "print(filtered_words)\n",
        "\n",
        "stemmer = PorterStemmer()\n",
        "stemmed = [stemmer.stem(w) for w in filtered_words]\n",
        "print(stemmed)\n",
        "\n",
        "lemmatizer = WordNetLemmatizer()\n",
        "lemmatized = [lemmatizer.lemmatize(w) for w in filtered_words]\n",
        "print(lemmatized)\n",
        "\n",
        "# Stemming is faster but crude (cuts endings), lemmatization is accurate but slower\n",
        "# Prefer stemming for search engines, lemmatization for text analysis"
      ],
      "metadata": {
        "colab": {
          "base_uri": "https://localhost:8080/"
        },
        "id": "0syehYy7bzme",
        "outputId": "ae42df91-b51b-41ac-b341-62d14d01a9c7"
      },
      "execution_count": null,
      "outputs": [
        {
          "output_type": "stream",
          "name": "stdout",
          "text": [
            "['artificial', 'intelligence', 'is', 'transforming', 'industries', 'worldwide', 'from', 'healthcare', 'diagnostics', 'to', 'autonomous', 'vehicles', 'ai', 'applications', 'are', 'growing', 'exponentially', 'machine', 'learning', 'algorithms', 'can', 'now', 'predict', 'diseases', 'with', 'remarkable', 'accuracy', 'natural', 'language', 'processing', 'enables', 'computers', 'to', 'understand', 'human', 'speech', 'however', 'ethical', 'concerns', 'about', 'job', 'displacement', 'remain', 'the', 'future', 'of', 'ai', 'promises', 'both', 'challenges', 'and', 'opportunities']\n",
            "['artificial', 'intelligence', 'transforming', 'industries', 'worldwide', 'healthcare', 'diagnostics', 'autonomous', 'vehicles', 'ai', 'applications', 'growing', 'exponentially', 'machine', 'learning', 'algorithms', 'predict', 'diseases', 'remarkable', 'accuracy', 'natural', 'language', 'processing', 'enables', 'computers', 'understand', 'human', 'speech', 'however', 'ethical', 'concerns', 'job', 'displacement', 'remain', 'future', 'ai', 'promises', 'challenges', 'opportunities']\n",
            "['artifici', 'intellig', 'transform', 'industri', 'worldwid', 'healthcar', 'diagnost', 'autonom', 'vehicl', 'ai', 'applic', 'grow', 'exponenti', 'machin', 'learn', 'algorithm', 'predict', 'diseas', 'remark', 'accuraci', 'natur', 'languag', 'process', 'enabl', 'comput', 'understand', 'human', 'speech', 'howev', 'ethic', 'concern', 'job', 'displac', 'remain', 'futur', 'ai', 'promis', 'challeng', 'opportun']\n",
            "['artificial', 'intelligence', 'transforming', 'industry', 'worldwide', 'healthcare', 'diagnostics', 'autonomous', 'vehicle', 'ai', 'application', 'growing', 'exponentially', 'machine', 'learning', 'algorithm', 'predict', 'disease', 'remarkable', 'accuracy', 'natural', 'language', 'processing', 'enables', 'computer', 'understand', 'human', 'speech', 'however', 'ethical', 'concern', 'job', 'displacement', 'remain', 'future', 'ai', 'promise', 'challenge', 'opportunity']\n"
          ]
        }
      ]
    },
    {
      "cell_type": "markdown",
      "source": [
        "Ques 3 : Choose 3 short texts of your own (e.g., different news headlines, product reviews).\n",
        "1. Use CountVectorizer to generate the Bag of Words representation.\n",
        "2. Use TfidfVectorizer to compute TF-IDF scores.\n",
        "3. Print and interpret the top 3 keywords from each text using TF-IDF."
      ],
      "metadata": {
        "id": "sIrdMdSmdSSC"
      }
    },
    {
      "cell_type": "code",
      "source": [
        "from sklearn.feature_extraction.text import CountVectorizer,TfidfVectorizer\n",
        "\n",
        "texts = [\"AI beats human at chess\",\n",
        "         \"New smartphone released with advanced camera\",\n",
        "         \"Stock market reaches all-time high\"]\n",
        "\n",
        "cv = CountVectorizer()\n",
        "bow = cv.fit_transform(texts)\n",
        "print(bow.toarray())\n",
        "\n",
        "tfidf = TfidfVectorizer()\n",
        "tfidf_matrix = tfidf.fit_transform(texts)\n",
        "print(tfidf_matrix.toarray())\n",
        "\n",
        "for i,text in enumerate(texts):\n",
        "    feature_index = tfidf_matrix[i,:].nonzero()[1]\n",
        "    scores = zip(feature_index,[tfidf_matrix[i,x] for x in feature_index])\n",
        "    top = sorted(scores,key=lambda x:x[1],reverse=True)[:3]\n",
        "    print(f\"Text {i+1} top keywords:\", [tfidf.get_feature_names_out()[i] for i,score in top])"
      ],
      "metadata": {
        "colab": {
          "base_uri": "https://localhost:8080/"
        },
        "id": "UUGcNltWdai1",
        "outputId": "e4b4b121-dfb2-4684-dde4-99d51ad0ea64"
      },
      "execution_count": null,
      "outputs": [
        {
          "output_type": "stream",
          "name": "stdout",
          "text": [
            "[[0 1 0 1 1 0 1 0 1 0 0 0 0 0 0 0 0]\n",
            " [1 0 0 0 0 1 0 0 0 0 1 0 1 1 0 0 1]\n",
            " [0 0 1 0 0 0 0 1 0 1 0 1 0 0 1 1 0]]\n",
            "[[0.         0.4472136  0.         0.4472136  0.4472136  0.\n",
            "  0.4472136  0.         0.4472136  0.         0.         0.\n",
            "  0.         0.         0.         0.         0.        ]\n",
            " [0.40824829 0.         0.         0.         0.         0.40824829\n",
            "  0.         0.         0.         0.         0.40824829 0.\n",
            "  0.40824829 0.40824829 0.         0.         0.40824829]\n",
            " [0.         0.         0.40824829 0.         0.         0.\n",
            "  0.         0.40824829 0.         0.40824829 0.         0.40824829\n",
            "  0.         0.         0.40824829 0.40824829 0.        ]]\n",
            "Text 1 top keywords: ['ai', 'beats', 'human']\n",
            "Text 2 top keywords: ['new', 'smartphone', 'released']\n",
            "Text 3 top keywords: ['stock', 'market', 'reaches']\n"
          ]
        }
      ]
    },
    {
      "cell_type": "markdown",
      "source": [
        "Ques 4 : Write 2 short texts (4-6 lines each) describing two different technologies (e.g., AI vs Blockchain).\n",
        "1. Preprocess and tokenize both texts.\n",
        "2. Calculate:\n",
        "  \n",
        "  a. Jaccard Similarity using sets.\n",
        "\n",
        "  b. Cosine Similarity using TfidfVectorizer + cosine_similarity()\n",
        "  \n",
        "  c. Analyze which similarity metric gives better insights in your case."
      ],
      "metadata": {
        "id": "guel93defvFg"
      }
    },
    {
      "cell_type": "code",
      "source": [
        "from sklearn.feature_extraction.text import TfidfVectorizer\n",
        "from sklearn.metrics.pairwise import cosine_similarity\n",
        "from nltk import jaccard_distance\n",
        "\n",
        "text1 = \"AI uses neural networks for pattern recognition...\"\n",
        "text2 = \"Blockchain creates decentralized ledgers for transactions...\"\n",
        "\n",
        "clean_text1 = re.sub(r'[^\\w\\s]','',text1.lower())\n",
        "words_tokenized1 = word_tokenize(clean_text1)\n",
        "print(words_tokenized1)\n",
        "clean_text2 = re.sub(r'[^\\w\\s]','',text2.lower())\n",
        "words_tokenized2 = word_tokenize(clean_text2)\n",
        "print(words_tokenized2)\n",
        "# 2a\n",
        "set1 = set(text1.split())\n",
        "set2 = set(text2.split())\n",
        "jaccard_sim = 1 - jaccard_distance(set1,set2)\n",
        "print(jaccard_sim)\n",
        "#2b\n",
        "vectorizer = TfidfVectorizer()\n",
        "tfidf_matrix = vectorizer.fit_transform([text1,text2])\n",
        "cosine_sim = cosine_similarity(tfidf_matrix[0:1],tfidf_matrix[1:2])[0][0]\n",
        "print(cosine_sim)\n",
        "# 2c. Analysis: Cosine better for text as it considers term importance"
      ],
      "metadata": {
        "colab": {
          "base_uri": "https://localhost:8080/"
        },
        "id": "nzyDr3YTf9Xc",
        "outputId": "cb91b606-4e3a-4fa2-f3c1-901e58e55b49"
      },
      "execution_count": null,
      "outputs": [
        {
          "output_type": "stream",
          "name": "stdout",
          "text": [
            "['ai', 'uses', 'neural', 'networks', 'for', 'pattern', 'recognition']\n",
            "['blockchain', 'creates', 'decentralized', 'ledgers', 'for', 'transactions']\n",
            "0.08333333333333337\n",
            "0.0845798608014702\n"
          ]
        }
      ]
    },
    {
      "cell_type": "markdown",
      "source": [
        "Ques 5 : Write a short review for a product or service.\n",
        "1. Use TextBlob or VADER to find polarity & subjectivity for each review.\n",
        "2. Classify reviews into Positive / Negative / Neutral.\n",
        "3. Create a word cloud using the wordcloud library for all positive reviews."
      ],
      "metadata": {
        "id": "gJzw1sk2hjeu"
      }
    },
    {
      "cell_type": "code",
      "source": [
        "from textblob import TextBlob\n",
        "from wordcloud import WordCloud\n",
        "\n",
        "review = \"This smartphone has amazing battery life but the camera could be better.\"\n",
        "\n",
        "blob = TextBlob(review)\n",
        "polarity = blob.sentiment.polarity\n",
        "print(polarity)\n",
        "subjectivity = blob.sentiment.subjectivity\n",
        "print(subjectivity)\n",
        "\n",
        "if polarity > 0.1:\n",
        "    sentiment = \"Positive\"\n",
        "elif polarity < -0.1:\n",
        "    sentiment = \"Negative\"\n",
        "else:\n",
        "    sentiment = \"Neutral\"\n",
        "print(sentiment)\n",
        "\n",
        "wordcloud = WordCloud().generate(review)\n",
        "wordcloud.to_image()"
      ],
      "metadata": {
        "colab": {
          "base_uri": "https://localhost:8080/",
          "height": 269
        },
        "id": "KzOzrhQShym8",
        "outputId": "bf4f50ef-532c-496e-ea89-37bf9bfe9fce"
      },
      "execution_count": 1,
      "outputs": [
        {
          "output_type": "stream",
          "name": "stdout",
          "text": [
            "0.55\n",
            "0.7\n",
            "Positive\n"
          ]
        },
        {
          "output_type": "execute_result",
          "data": {
            "text/plain": [
              "<PIL.Image.Image image mode=RGB size=400x200>"
            ],
            "image/png": "[encoded data removed]",
            "image/jpeg": "[encoded data removed]"
          },
          "metadata": {},
          "execution_count": 1
        }
      ]
    },
    {
      "cell_type": "markdown",
      "source": [
        "Ques 6 : Choose your own paragraph (~100 words) as training data.\n",
        "1. Tokenize text using Tokenizer() from keras.preprocessing.text\n",
        "2. Create input sequences and build a simple LSTM or Dense model\n",
        "3. Train the model and generate 2-3 new lines of text starting from any seed word you\n",
        "provide."
      ],
      "metadata": {
        "id": "h4x1QoSdh10i"
      }
    },
    {
      "cell_type": "code",
      "source": [
        "from tensorflow import keras\n",
        "from tensorflow.keras.preprocessing.text import Tokenizer\n",
        "from tensorflow.keras.preprocessing.sequence import pad_sequences\n",
        "from tensorflow.keras.models import Sequential\n",
        "from tensorflow.keras.layers import Embedding,LSTM,Dense\n",
        "import numpy as np\n",
        "\n",
        "tokenizer = Tokenizer()\n",
        "text = \"Artificial Intelligence is transforming industries worldwide. From healthcare diagnostics to autonomous vehicles, AI applications are growing exponentially. Machine learning algorithms can now predict diseases with remarkable accuracy. Natural Language Processing enables computers to understand human speech. However, ethical concerns about job displacement remain. The future of AI promises both challenges and opportunities.\"\n",
        "tokenizer.fit_on_texts([text])\n",
        "total_words = len(tokenizer.word_index)+1\n",
        "print(total_words)\n",
        "\n",
        "input_sequences = []\n",
        "for line in text.split('.'):\n",
        "    token_list = tokenizer.texts_to_sequences([line])[0]\n",
        "    for i in range(1,len(token_list)):\n",
        "        n_gram_sequence = token_list[:i+1]\n",
        "        input_sequences.append(n_gram_sequence)\n",
        "\n",
        "max_sequence_len = max([len(x) for x in input_sequences])\n",
        "input_sequences = pad_sequences(input_sequences,maxlen=max_sequence_len,padding='pre')\n",
        "\n",
        "X = input_sequences[:,:-1]\n",
        "y = input_sequences[:,-1]\n",
        "y = np.array([np.eye(total_words)[i] for i in y])\n",
        "\n",
        "model = Sequential()\n",
        "model.add(Embedding(total_words,64,input_length=max_sequence_len-1))\n",
        "model.add(LSTM(100))\n",
        "model.add(Dense(total_words,activation='softmax'))\n",
        "model.compile(loss='categorical_crossentropy',optimizer='adam',metrics=['accuracy'])\n",
        "\n",
        "model.fit(X,y,epochs=50,verbose=1)\n",
        "def generate_text(seed_text,next_words):\n",
        "    for _ in range(next_words):\n",
        "        token_list = tokenizer.texts_to_sequences([seed_text])[0]\n",
        "        token_list = pad_sequences([token_list],maxlen=max_sequence_len-1,padding='pre')\n",
        "        predicted = np.argmax(model.predict(token_list),axis=-1)\n",
        "        output_word = \"\"\n",
        "        for word,index in tokenizer.word_index.items():\n",
        "            if index == predicted:\n",
        "                output_word = word\n",
        "                break\n",
        "        seed_text += \" \"+output_word\n",
        "    return seed_text\n",
        "\n",
        "print(generate_text(\"Human\",5))\n",
        "print(generate_text(\"Space\",6))\n",
        "print(generate_text(\"Future\",4))"
      ],
      "metadata": {
        "colab": {
          "base_uri": "https://localhost:8080/"
        },
        "id": "oQCN3S3Zh_SH",
        "outputId": "05b5ac93-1980-4026-e412-2d54b788604c"
      },
      "execution_count": 23,
      "outputs": [
        {
          "output_type": "stream",
          "name": "stdout",
          "text": [
            "51\n",
            "Epoch 1/50\n",
            "\u001b[1m2/2\u001b[0m \u001b[32m━━━━━━━━━━━━━━━━━━━━\u001b[0m\u001b[37m\u001b[0m \u001b[1m2s\u001b[0m 30ms/step - accuracy: 0.0000e+00 - loss: 3.9332\n",
            "Epoch 2/50\n",
            "\u001b[1m2/2\u001b[0m \u001b[32m━━━━━━━━━━━━━━━━━━━━\u001b[0m\u001b[37m\u001b[0m \u001b[1m0s\u001b[0m 33ms/step - accuracy: 0.0892 - loss: 3.9262\n",
            "Epoch 3/50\n",
            "\u001b[1m2/2\u001b[0m \u001b[32m━━━━━━━━━━━━━━━━━━━━\u001b[0m\u001b[37m\u001b[0m \u001b[1m0s\u001b[0m 31ms/step - accuracy: 0.1141 - loss: 3.9198\n",
            "Epoch 4/50\n",
            "\u001b[1m2/2\u001b[0m \u001b[32m━━━━━━━━━━━━━━━━━━━━\u001b[0m\u001b[37m\u001b[0m \u001b[1m0s\u001b[0m 31ms/step - accuracy: 0.1037 - loss: 3.9143\n",
            "Epoch 5/50\n",
            "\u001b[1m2/2\u001b[0m \u001b[32m━━━━━━━━━━━━━━━━━━━━\u001b[0m\u001b[37m\u001b[0m \u001b[1m0s\u001b[0m 32ms/step - accuracy: 0.1390 - loss: 3.9066\n",
            "Epoch 6/50\n",
            "\u001b[1m2/2\u001b[0m \u001b[32m━━━━━━━━━━━━━━━━━━━━\u001b[0m\u001b[37m\u001b[0m \u001b[1m0s\u001b[0m 32ms/step - accuracy: 0.1037 - loss: 3.8989 \n",
            "Epoch 7/50\n",
            "\u001b[1m2/2\u001b[0m \u001b[32m━━━━━━━━━━━━━━━━━━━━\u001b[0m\u001b[37m\u001b[0m \u001b[1m0s\u001b[0m 32ms/step - accuracy: 0.1037 - loss: 3.8910 \n",
            "Epoch 8/50\n",
            "\u001b[1m2/2\u001b[0m \u001b[32m━━━━━━━━━━━━━━━━━━━━\u001b[0m\u001b[37m\u001b[0m \u001b[1m0s\u001b[0m 31ms/step - accuracy: 0.0933 - loss: 3.8831 \n",
            "Epoch 9/50\n",
            "\u001b[1m2/2\u001b[0m \u001b[32m━━━━━━━━━━━━━━━━━━━━\u001b[0m\u001b[37m\u001b[0m \u001b[1m0s\u001b[0m 32ms/step - accuracy: 0.1141 - loss: 3.8673 \n",
            "Epoch 10/50\n",
            "\u001b[1m2/2\u001b[0m \u001b[32m━━━━━━━━━━━━━━━━━━━━\u001b[0m\u001b[37m\u001b[0m \u001b[1m0s\u001b[0m 31ms/step - accuracy: 0.0996 - loss: 3.8525\n",
            "Epoch 11/50\n",
            "\u001b[1m2/2\u001b[0m \u001b[32m━━━━━━━━━━━━━━━━━━━━\u001b[0m\u001b[37m\u001b[0m \u001b[1m0s\u001b[0m 31ms/step - accuracy: 0.0892 - loss: 3.8252\n",
            "Epoch 12/50\n",
            "\u001b[1m2/2\u001b[0m \u001b[32m━━━━━━━━━━━━━━━━━━━━\u001b[0m\u001b[37m\u001b[0m \u001b[1m0s\u001b[0m 29ms/step - accuracy: 0.0747 - loss: 3.7954\n",
            "Epoch 13/50\n",
            "\u001b[1m2/2\u001b[0m \u001b[32m━━━━━━━━━━━━━━━━━━━━\u001b[0m\u001b[37m\u001b[0m \u001b[1m0s\u001b[0m 32ms/step - accuracy: 0.0539 - loss: 3.7708\n",
            "Epoch 14/50\n",
            "\u001b[1m2/2\u001b[0m \u001b[32m━━━━━━━━━━━━━━━━━━━━\u001b[0m\u001b[37m\u001b[0m \u001b[1m0s\u001b[0m 31ms/step - accuracy: 0.1141 - loss: 3.7345\n",
            "Epoch 15/50\n",
            "\u001b[1m2/2\u001b[0m \u001b[32m━━━━━━━━━━━━━━━━━━━━\u001b[0m\u001b[37m\u001b[0m \u001b[1m0s\u001b[0m 30ms/step - accuracy: 0.0892 - loss: 3.6929\n",
            "Epoch 16/50\n",
            "\u001b[1m2/2\u001b[0m \u001b[32m━━━━━━━━━━━━━━━━━━━━\u001b[0m\u001b[37m\u001b[0m \u001b[1m0s\u001b[0m 42ms/step - accuracy: 0.0892 - loss: 3.6757 \n",
            "Epoch 17/50\n",
            "\u001b[1m2/2\u001b[0m \u001b[32m━━━━━━━━━━━━━━━━━━━━\u001b[0m\u001b[37m\u001b[0m \u001b[1m0s\u001b[0m 31ms/step - accuracy: 0.0996 - loss: 3.6310\n",
            "Epoch 18/50\n",
            "\u001b[1m2/2\u001b[0m \u001b[32m━━━━━━━━━━━━━━━━━━━━\u001b[0m\u001b[37m\u001b[0m \u001b[1m0s\u001b[0m 31ms/step - accuracy: 0.0892 - loss: 3.6153\n",
            "Epoch 19/50\n",
            "\u001b[1m2/2\u001b[0m \u001b[32m━━━━━━━━━━━━━━━━━━━━\u001b[0m\u001b[37m\u001b[0m \u001b[1m0s\u001b[0m 31ms/step - accuracy: 0.0643 - loss: 3.5789\n",
            "Epoch 20/50\n",
            "\u001b[1m2/2\u001b[0m \u001b[32m━━━━━━━━━━━━━━━━━━━━\u001b[0m\u001b[37m\u001b[0m \u001b[1m0s\u001b[0m 36ms/step - accuracy: 0.0892 - loss: 3.5197\n",
            "Epoch 21/50\n",
            "\u001b[1m2/2\u001b[0m \u001b[32m━━━━━━━━━━━━━━━━━━━━\u001b[0m\u001b[37m\u001b[0m \u001b[1m0s\u001b[0m 35ms/step - accuracy: 0.1037 - loss: 3.4628\n",
            "Epoch 22/50\n",
            "\u001b[1m2/2\u001b[0m \u001b[32m━━━━━━━━━━━━━━━━━━━━\u001b[0m\u001b[37m\u001b[0m \u001b[1m0s\u001b[0m 34ms/step - accuracy: 0.1639 - loss: 3.3848\n",
            "Epoch 23/50\n",
            "\u001b[1m2/2\u001b[0m \u001b[32m━━━━━━━━━━━━━━━━━━━━\u001b[0m\u001b[37m\u001b[0m \u001b[1m0s\u001b[0m 34ms/step - accuracy: 0.1784 - loss: 3.3416\n",
            "Epoch 24/50\n",
            "\u001b[1m2/2\u001b[0m \u001b[32m━━━━━━━━━━━━━━━━━━━━\u001b[0m\u001b[37m\u001b[0m \u001b[1m0s\u001b[0m 34ms/step - accuracy: 0.1825 - loss: 3.2930\n",
            "Epoch 25/50\n",
            "\u001b[1m2/2\u001b[0m \u001b[32m━━━━━━━━━━━━━━━━━━━━\u001b[0m\u001b[37m\u001b[0m \u001b[1m0s\u001b[0m 33ms/step - accuracy: 0.2532 - loss: 3.2240\n",
            "Epoch 26/50\n",
            "\u001b[1m2/2\u001b[0m \u001b[32m━━━━━━━━━━━━━━━━━━━━\u001b[0m\u001b[37m\u001b[0m \u001b[1m0s\u001b[0m 33ms/step - accuracy: 0.1576 - loss: 3.1461\n",
            "Epoch 27/50\n",
            "\u001b[1m2/2\u001b[0m \u001b[32m━━━━━━━━━━━━━━━━━━━━\u001b[0m\u001b[37m\u001b[0m \u001b[1m0s\u001b[0m 33ms/step - accuracy: 0.2178 - loss: 3.0731\n",
            "Epoch 28/50\n",
            "\u001b[1m2/2\u001b[0m \u001b[32m━━━━━━━━━━━━━━━━━━━━\u001b[0m\u001b[37m\u001b[0m \u001b[1m0s\u001b[0m 32ms/step - accuracy: 0.1825 - loss: 2.9916 \n",
            "Epoch 29/50\n",
            "\u001b[1m2/2\u001b[0m \u001b[32m━━━━━━━━━━━━━━━━━━━━\u001b[0m\u001b[37m\u001b[0m \u001b[1m0s\u001b[0m 42ms/step - accuracy: 0.2034 - loss: 2.9136\n",
            "Epoch 30/50\n",
            "\u001b[1m2/2\u001b[0m \u001b[32m━━━━━━━━━━━━━━━━━━━━\u001b[0m\u001b[37m\u001b[0m \u001b[1m0s\u001b[0m 32ms/step - accuracy: 0.3030 - loss: 2.8447\n",
            "Epoch 31/50\n",
            "\u001b[1m2/2\u001b[0m \u001b[32m━━━━━━━━━━━━━━━━━━━━\u001b[0m\u001b[37m\u001b[0m \u001b[1m0s\u001b[0m 31ms/step - accuracy: 0.3610 - loss: 2.7794\n",
            "Epoch 32/50\n",
            "\u001b[1m2/2\u001b[0m \u001b[32m━━━━━━━━━━━━━━━━━━━━\u001b[0m\u001b[37m\u001b[0m \u001b[1m0s\u001b[0m 31ms/step - accuracy: 0.3175 - loss: 2.6972\n",
            "Epoch 33/50\n",
            "\u001b[1m2/2\u001b[0m \u001b[32m━━━━━━━━━━━━━━━━━━━━\u001b[0m\u001b[37m\u001b[0m \u001b[1m0s\u001b[0m 34ms/step - accuracy: 0.2822 - loss: 2.6318\n",
            "Epoch 34/50\n",
            "\u001b[1m2/2\u001b[0m \u001b[32m━━━━━━━━━━━━━━━━━━━━\u001b[0m\u001b[37m\u001b[0m \u001b[1m0s\u001b[0m 31ms/step - accuracy: 0.3795 - loss: 2.6065\n",
            "Epoch 35/50\n",
            "\u001b[1m2/2\u001b[0m \u001b[32m━━━━━━━━━━━━━━━━━━━━\u001b[0m\u001b[37m\u001b[0m \u001b[1m0s\u001b[0m 32ms/step - accuracy: 0.4751 - loss: 2.5341\n",
            "Epoch 36/50\n",
            "\u001b[1m2/2\u001b[0m \u001b[32m━━━━━━━━━━━━━━━━━━━━\u001b[0m\u001b[37m\u001b[0m \u001b[1m0s\u001b[0m 31ms/step - accuracy: 0.4565 - loss: 2.4364\n",
            "Epoch 37/50\n",
            "\u001b[1m2/2\u001b[0m \u001b[32m━━━━━━━━━━━━━━━━━━━━\u001b[0m\u001b[37m\u001b[0m \u001b[1m0s\u001b[0m 32ms/step - accuracy: 0.3899 - loss: 2.3845\n",
            "Epoch 38/50\n",
            "\u001b[1m2/2\u001b[0m \u001b[32m━━━━━━━━━━━━━━━━━━━━\u001b[0m\u001b[37m\u001b[0m \u001b[1m0s\u001b[0m 32ms/step - accuracy: 0.5996 - loss: 2.2443\n",
            "Epoch 39/50\n",
            "\u001b[1m2/2\u001b[0m \u001b[32m━━━━━━━━━━━━━━━━━━━━\u001b[0m\u001b[37m\u001b[0m \u001b[1m0s\u001b[0m 31ms/step - accuracy: 0.5145 - loss: 2.2549\n",
            "Epoch 40/50\n",
            "\u001b[1m2/2\u001b[0m \u001b[32m━━━━━━━━━━━━━━━━━━━━\u001b[0m\u001b[37m\u001b[0m \u001b[1m0s\u001b[0m 31ms/step - accuracy: 0.4959 - loss: 2.1751\n",
            "Epoch 41/50\n",
            "\u001b[1m2/2\u001b[0m \u001b[32m━━━━━━━━━━━━━━━━━━━━\u001b[0m\u001b[37m\u001b[0m \u001b[1m0s\u001b[0m 32ms/step - accuracy: 0.3940 - loss: 2.1893\n",
            "Epoch 42/50\n",
            "\u001b[1m2/2\u001b[0m \u001b[32m━━━━━━━━━━━━━━━━━━━━\u001b[0m\u001b[37m\u001b[0m \u001b[1m0s\u001b[0m 32ms/step - accuracy: 0.5643 - loss: 2.0803\n",
            "Epoch 43/50\n",
            "\u001b[1m2/2\u001b[0m \u001b[32m━━━━━━━━━━━━━━━━━━━━\u001b[0m\u001b[37m\u001b[0m \u001b[1m0s\u001b[0m 32ms/step - accuracy: 0.6390 - loss: 1.9888\n",
            "Epoch 44/50\n",
            "\u001b[1m2/2\u001b[0m \u001b[32m━━━━━━━━━━━━━━━━━━━━\u001b[0m\u001b[37m\u001b[0m \u001b[1m0s\u001b[0m 38ms/step - accuracy: 0.5394 - loss: 1.9642\n",
            "Epoch 45/50\n",
            "\u001b[1m2/2\u001b[0m \u001b[32m━━━━━━━━━━━━━━━━━━━━\u001b[0m\u001b[37m\u001b[0m \u001b[1m0s\u001b[0m 32ms/step - accuracy: 0.5602 - loss: 1.9040 \n",
            "Epoch 46/50\n",
            "\u001b[1m2/2\u001b[0m \u001b[32m━━━━━━━━━━━━━━━━━━━━\u001b[0m\u001b[37m\u001b[0m \u001b[1m0s\u001b[0m 31ms/step - accuracy: 0.5457 - loss: 1.8502 \n",
            "Epoch 47/50\n",
            "\u001b[1m2/2\u001b[0m \u001b[32m━━━━━━━━━━━━━━━━━━━━\u001b[0m\u001b[37m\u001b[0m \u001b[1m0s\u001b[0m 30ms/step - accuracy: 0.5788 - loss: 1.8314 \n",
            "Epoch 48/50\n",
            "\u001b[1m2/2\u001b[0m \u001b[32m━━━━━━━━━━━━━━━━━━━━\u001b[0m\u001b[37m\u001b[0m \u001b[1m0s\u001b[0m 30ms/step - accuracy: 0.6390 - loss: 1.8046\n",
            "Epoch 49/50\n",
            "\u001b[1m2/2\u001b[0m \u001b[32m━━━━━━━━━━━━━━━━━━━━\u001b[0m\u001b[37m\u001b[0m \u001b[1m0s\u001b[0m 34ms/step - accuracy: 0.6286 - loss: 1.7648\n",
            "Epoch 50/50\n",
            "\u001b[1m2/2\u001b[0m \u001b[32m━━━━━━━━━━━━━━━━━━━━\u001b[0m\u001b[37m\u001b[0m \u001b[1m0s\u001b[0m 32ms/step - accuracy: 0.6721 - loss: 1.6884\n",
            "\u001b[1m1/1\u001b[0m \u001b[32m━━━━━━━━━━━━━━━━━━━━\u001b[0m\u001b[37m\u001b[0m \u001b[1m0s\u001b[0m 215ms/step\n",
            "\u001b[1m1/1\u001b[0m \u001b[32m━━━━━━━━━━━━━━━━━━━━\u001b[0m\u001b[37m\u001b[0m \u001b[1m0s\u001b[0m 53ms/step\n",
            "\u001b[1m1/1\u001b[0m \u001b[32m━━━━━━━━━━━━━━━━━━━━\u001b[0m\u001b[37m\u001b[0m \u001b[1m0s\u001b[0m 36ms/step\n",
            "\u001b[1m1/1\u001b[0m \u001b[32m━━━━━━━━━━━━━━━━━━━━\u001b[0m\u001b[37m\u001b[0m \u001b[1m0s\u001b[0m 39ms/step\n",
            "\u001b[1m1/1\u001b[0m \u001b[32m━━━━━━━━━━━━━━━━━━━━\u001b[0m\u001b[37m\u001b[0m \u001b[1m0s\u001b[0m 40ms/step\n",
            "Human language to to to ai\n",
            "\u001b[1m1/1\u001b[0m \u001b[32m━━━━━━━━━━━━━━━━━━━━\u001b[0m\u001b[37m\u001b[0m \u001b[1m0s\u001b[0m 38ms/step\n",
            "\u001b[1m1/1\u001b[0m \u001b[32m━━━━━━━━━━━━━━━━━━━━\u001b[0m\u001b[37m\u001b[0m \u001b[1m0s\u001b[0m 40ms/step\n",
            "\u001b[1m1/1\u001b[0m \u001b[32m━━━━━━━━━━━━━━━━━━━━\u001b[0m\u001b[37m\u001b[0m \u001b[1m0s\u001b[0m 51ms/step\n",
            "\u001b[1m1/1\u001b[0m \u001b[32m━━━━━━━━━━━━━━━━━━━━\u001b[0m\u001b[37m\u001b[0m \u001b[1m0s\u001b[0m 58ms/step\n",
            "\u001b[1m1/1\u001b[0m \u001b[32m━━━━━━━━━━━━━━━━━━━━\u001b[0m\u001b[37m\u001b[0m \u001b[1m0s\u001b[0m 66ms/step\n",
            "\u001b[1m1/1\u001b[0m \u001b[32m━━━━━━━━━━━━━━━━━━━━\u001b[0m\u001b[37m\u001b[0m \u001b[1m0s\u001b[0m 72ms/step\n",
            "Space language language to to to to\n",
            "\u001b[1m1/1\u001b[0m \u001b[32m━━━━━━━━━━━━━━━━━━━━\u001b[0m\u001b[37m\u001b[0m \u001b[1m0s\u001b[0m 55ms/step\n",
            "\u001b[1m1/1\u001b[0m \u001b[32m━━━━━━━━━━━━━━━━━━━━\u001b[0m\u001b[37m\u001b[0m \u001b[1m0s\u001b[0m 61ms/step\n",
            "\u001b[1m1/1\u001b[0m \u001b[32m━━━━━━━━━━━━━━━━━━━━\u001b[0m\u001b[37m\u001b[0m \u001b[1m0s\u001b[0m 55ms/step\n",
            "\u001b[1m1/1\u001b[0m \u001b[32m━━━━━━━━━━━━━━━━━━━━\u001b[0m\u001b[37m\u001b[0m \u001b[1m0s\u001b[0m 52ms/step\n",
            "Future language to to ai\n"
          ]
        }
      ]
    }
  ]
}