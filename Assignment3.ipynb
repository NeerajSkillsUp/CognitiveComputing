{
  "nbformat": 4,
  "nbformat_minor": 0,
  "metadata": {
    "colab": {
      "provenance": []
    },
    "kernelspec": {
      "name": "python3",
      "display_name": "Python 3"
    },
    "language_info": {
      "name": "python"
    }
  },
  "cells": [
    {
      "cell_type": "markdown",
      "source": [
        "# Assignment 1"
      ],
      "metadata": {
        "id": "_g4atXR2Xbw2"
      }
    },
    {
      "cell_type": "markdown",
      "source": [
        "Ques 1 : Create a dataset as table."
      ],
      "metadata": {
        "id": "Nxka2CeoXYVw"
      }
    },
    {
      "cell_type": "code",
      "execution_count": 2,
      "metadata": {
        "id": "oJAMFz9AXJak",
        "colab": {
          "base_uri": "https://localhost:8080/"
        },
        "outputId": "d6dfd009-6a08-4e68-ad5c-a09c50f60020"
      },
      "outputs": [
        {
          "output_type": "stream",
          "name": "stdout",
          "text": [
            "Mounted at /content/drive\n"
          ]
        }
      ],
      "source": [
        "from google.colab import drive\n",
        "drive.mount('/content/drive')"
      ]
    },
    {
      "cell_type": "markdown",
      "source": [
        "Ques 2 : From the above table that you have created, locate row 0, 4, 7 and 8 using DataFrame."
      ],
      "metadata": {
        "id": "82x2M3Q3Y9al"
      }
    },
    {
      "cell_type": "code",
      "source": [
        "import pandas as pd\n",
        "\n",
        "df=pd.read_csv('/content/drive/MyDrive/table.csv')\n",
        "print(df.iloc[0])\n",
        "print(df.iloc[4])\n",
        "print(df.iloc[7])\n",
        "print(df.iloc[8])"
      ],
      "metadata": {
        "colab": {
          "base_uri": "https://localhost:8080/"
        },
        "id": "moe0HwiGZAYF",
        "outputId": "fe3bd9d1-fac4-4559-9940-d02ba6b9fddb"
      },
      "execution_count": 3,
      "outputs": [
        {
          "output_type": "stream",
          "name": "stdout",
          "text": [
            "Tid                    1\n",
            "Refund               Yes\n",
            "Marital Status    Single\n",
            "Taxable Income    125000\n",
            "Cheat                 No\n",
            "Name: 0, dtype: object\n",
            "Tid                      5\n",
            "Refund                  No\n",
            "Marital Status    Divorced\n",
            "Taxable Income       95000\n",
            "Cheat                  Yes\n",
            "Name: 4, dtype: object\n",
            "Tid                    8\n",
            "Refund                No\n",
            "Marital Status    Single\n",
            "Taxable Income     85000\n",
            "Cheat                Yes\n",
            "Name: 7, dtype: object\n",
            "Tid                     9\n",
            "Refund                 No\n",
            "Marital Status    Married\n",
            "Taxable Income      75000\n",
            "Cheat                  No\n",
            "Name: 8, dtype: object\n"
          ]
        }
      ]
    },
    {
      "cell_type": "markdown",
      "source": [
        "Ques 3 : Navigate the DataFrame and do the following task for the table created in question 1:\n",
        "1. Select row from index 3 to 7.\n",
        "2. Select row from index 4 to 8, and column 2 to 4.\n",
        "3. Select all rows with column index 1 to 3 (include index 3 during selection)."
      ],
      "metadata": {
        "id": "00jEBO65fWYX"
      }
    },
    {
      "cell_type": "code",
      "source": [
        "print(df.iloc[3:7])\n",
        "print(df.iloc[4:8,2:4])\n",
        "print(df.iloc[:,1:4])"
      ],
      "metadata": {
        "colab": {
          "base_uri": "https://localhost:8080/"
        },
        "id": "oQzG6T4ufYfg",
        "outputId": "5295d751-1119-4d57-eddf-6dfe072184bf"
      },
      "execution_count": 4,
      "outputs": [
        {
          "output_type": "stream",
          "name": "stdout",
          "text": [
            "   Tid Refund Marital Status  Taxable Income Cheat\n",
            "3    4    Yes        Married          120000    No\n",
            "4    5     No       Divorced           95000   Yes\n",
            "5    6     No        Married           60000    No\n",
            "6    7    Yes       Divorced          220000    No\n",
            "  Marital Status  Taxable Income\n",
            "4       Divorced           95000\n",
            "5        Married           60000\n",
            "6       Divorced          220000\n",
            "7         Single           85000\n",
            "  Refund Marital Status  Taxable Income\n",
            "0    Yes         Single          125000\n",
            "1     No        Married          100000\n",
            "2     No         Single           70000\n",
            "3    Yes        Married          120000\n",
            "4     No       Divorced           95000\n",
            "5     No        Married           60000\n",
            "6    Yes       Divorced          220000\n",
            "7     No         Single           85000\n",
            "8     No        Married           75000\n",
            "9     No         Single           90000\n"
          ]
        }
      ]
    },
    {
      "cell_type": "markdown",
      "source": [
        "Ques 4 : Read a csv file and display its first five rows."
      ],
      "metadata": {
        "id": "fRxKEvFzf0Nm"
      }
    },
    {
      "cell_type": "code",
      "source": [
        "import pandas as pp\n",
        "df=pp.read_csv('/Iris.csv')\n",
        "print(df)\n",
        "df.head()"
      ],
      "metadata": {
        "id": "pxtvTWKif1l2",
        "colab": {
          "base_uri": "https://localhost:8080/"
        },
        "outputId": "fb949247-4200-4f46-a4b6-c20b19fa9b40"
      },
      "execution_count": 34,
      "outputs": [
        {
          "output_type": "stream",
          "name": "stdout",
          "text": [
            "      Id  SepalLengthCm  SepalWidthCm  PetalLengthCm  PetalWidthCm  \\\n",
            "0      1            5.1           3.5            1.4           0.2   \n",
            "1      2            4.9           3.0            1.4           0.2   \n",
            "2      3            4.7           3.2            1.3           0.2   \n",
            "3      4            4.6           3.1            1.5           0.2   \n",
            "4      5            5.0           3.6            1.4           0.2   \n",
            "..   ...            ...           ...            ...           ...   \n",
            "145  146            6.7           3.0            5.2           2.3   \n",
            "146  147            6.3           2.5            5.0           1.9   \n",
            "147  148            6.5           3.0            5.2           2.0   \n",
            "148  149            6.2           3.4            5.4           2.3   \n",
            "149  150            5.9           3.0            5.1           1.8   \n",
            "\n",
            "            Species  \n",
            "0       Iris-setosa  \n",
            "1       Iris-setosa  \n",
            "2       Iris-setosa  \n",
            "3       Iris-setosa  \n",
            "4       Iris-setosa  \n",
            "..              ...  \n",
            "145  Iris-virginica  \n",
            "146  Iris-virginica  \n",
            "147  Iris-virginica  \n",
            "148  Iris-virginica  \n",
            "149  Iris-virginica  \n",
            "\n",
            "[150 rows x 6 columns]\n"
          ]
        }
      ]
    },
    {
      "cell_type": "markdown",
      "source": [
        "Ques 5 : From the csv file (uploaded in the Q.4) delete row 4, and delete column 3. Display the\n",
        "result."
      ],
      "metadata": {
        "id": "7kQgseQ3cGk-"
      }
    },
    {
      "cell_type": "code",
      "source": [
        "print(df)\n",
        "df.drop(3,axis=0,inplace=True)\n",
        "print(df)\n",
        "df.drop(df.columns[2],axis=1,inplace=True)\n",
        "print(df)"
      ],
      "metadata": {
        "colab": {
          "base_uri": "https://localhost:8080/"
        },
        "id": "oQ2V7_1PcKK2",
        "outputId": "67a82941-0cd1-4ba1-8c93-4262029d248a"
      },
      "execution_count": 35,
      "outputs": [
        {
          "output_type": "stream",
          "name": "stdout",
          "text": [
            "      Id  SepalLengthCm  SepalWidthCm  PetalLengthCm  PetalWidthCm  \\\n",
            "0      1            5.1           3.5            1.4           0.2   \n",
            "1      2            4.9           3.0            1.4           0.2   \n",
            "2      3            4.7           3.2            1.3           0.2   \n",
            "3      4            4.6           3.1            1.5           0.2   \n",
            "4      5            5.0           3.6            1.4           0.2   \n",
            "..   ...            ...           ...            ...           ...   \n",
            "145  146            6.7           3.0            5.2           2.3   \n",
            "146  147            6.3           2.5            5.0           1.9   \n",
            "147  148            6.5           3.0            5.2           2.0   \n",
            "148  149            6.2           3.4            5.4           2.3   \n",
            "149  150            5.9           3.0            5.1           1.8   \n",
            "\n",
            "            Species  \n",
            "0       Iris-setosa  \n",
            "1       Iris-setosa  \n",
            "2       Iris-setosa  \n",
            "3       Iris-setosa  \n",
            "4       Iris-setosa  \n",
            "..              ...  \n",
            "145  Iris-virginica  \n",
            "146  Iris-virginica  \n",
            "147  Iris-virginica  \n",
            "148  Iris-virginica  \n",
            "149  Iris-virginica  \n",
            "\n",
            "[150 rows x 6 columns]\n",
            "      Id  SepalLengthCm  SepalWidthCm  PetalLengthCm  PetalWidthCm  \\\n",
            "0      1            5.1           3.5            1.4           0.2   \n",
            "1      2            4.9           3.0            1.4           0.2   \n",
            "2      3            4.7           3.2            1.3           0.2   \n",
            "4      5            5.0           3.6            1.4           0.2   \n",
            "5      6            5.4           3.9            1.7           0.4   \n",
            "..   ...            ...           ...            ...           ...   \n",
            "145  146            6.7           3.0            5.2           2.3   \n",
            "146  147            6.3           2.5            5.0           1.9   \n",
            "147  148            6.5           3.0            5.2           2.0   \n",
            "148  149            6.2           3.4            5.4           2.3   \n",
            "149  150            5.9           3.0            5.1           1.8   \n",
            "\n",
            "            Species  \n",
            "0       Iris-setosa  \n",
            "1       Iris-setosa  \n",
            "2       Iris-setosa  \n",
            "4       Iris-setosa  \n",
            "5       Iris-setosa  \n",
            "..              ...  \n",
            "145  Iris-virginica  \n",
            "146  Iris-virginica  \n",
            "147  Iris-virginica  \n",
            "148  Iris-virginica  \n",
            "149  Iris-virginica  \n",
            "\n",
            "[149 rows x 6 columns]\n",
            "      Id  SepalLengthCm  PetalLengthCm  PetalWidthCm         Species\n",
            "0      1            5.1            1.4           0.2     Iris-setosa\n",
            "1      2            4.9            1.4           0.2     Iris-setosa\n",
            "2      3            4.7            1.3           0.2     Iris-setosa\n",
            "4      5            5.0            1.4           0.2     Iris-setosa\n",
            "5      6            5.4            1.7           0.4     Iris-setosa\n",
            "..   ...            ...            ...           ...             ...\n",
            "145  146            6.7            5.2           2.3  Iris-virginica\n",
            "146  147            6.3            5.0           1.9  Iris-virginica\n",
            "147  148            6.5            5.2           2.0  Iris-virginica\n",
            "148  149            6.2            5.4           2.3  Iris-virginica\n",
            "149  150            5.9            5.1           1.8  Iris-virginica\n",
            "\n",
            "[149 rows x 5 columns]\n"
          ]
        }
      ]
    },
    {
      "cell_type": "markdown",
      "source": [
        "Ques 6 :Create a sample dataset (employees.csv) containing information about employees in\n",
        "a company."
      ],
      "metadata": {
        "id": "8zHZF5XLMqYQ"
      }
    },
    {
      "cell_type": "code",
      "source": [
        "import pandas as pd\n",
        "\n",
        "df=pd.read_csv('/content/emp_data.csv')\n",
        "print(df)"
      ],
      "metadata": {
        "colab": {
          "base_uri": "https://localhost:8080/"
        },
        "id": "Mf2KHWYkMsQR",
        "outputId": "72f3111d-1107-4704-a740-463bbeec1808"
      },
      "execution_count": 37,
      "outputs": [
        {
          "output_type": "stream",
          "name": "stdout",
          "text": [
            "   Employee_id     Name Department  Age  Salary  Years_of_experience  \\\n",
            "0          101    Alice         HR   29   50000                    4   \n",
            "1          102      Bob         IT   34   70000                    8   \n",
            "2          103  Charlie         IT   41   65000                   10   \n",
            "3          104    Diana  Marketing   28   55000                    3   \n",
            "4          105   Edward      Sales   29   60000                   12   \n",
            "\n",
            "  Joining_date  Gender  Bonus  Rating  \n",
            "0    3/15/2020  female   5000     4.5  \n",
            "1    7/19/2017    male   7000     4.0  \n",
            "2     6/1/2013    male   6000     3.8  \n",
            "3    2/10/2021  female   4500     4.7  \n",
            "4   11/25/2010    male   5000     3.5  \n"
          ]
        }
      ]
    },
    {
      "cell_type": "code",
      "source": [
        "# 6(a)\n",
        "print(\"Shape of the DataFrame:\", df.shape)"
      ],
      "metadata": {
        "colab": {
          "base_uri": "https://localhost:8080/"
        },
        "id": "_lLQeiGOR1I_",
        "outputId": "317abe5a-f65d-4b0d-ce88-90caaceca763"
      },
      "execution_count": 38,
      "outputs": [
        {
          "output_type": "stream",
          "name": "stdout",
          "text": [
            "Shape of the DataFrame: (5, 10)\n"
          ]
        }
      ]
    },
    {
      "cell_type": "code",
      "source": [
        "# 6(b)\n",
        "print(\"\\nSummary of the DataFrame:\",df.info())"
      ],
      "metadata": {
        "colab": {
          "base_uri": "https://localhost:8080/"
        },
        "id": "icYe1DNnSjEo",
        "outputId": "ac237c0c-6fd4-47f3-e63f-05fc1e04b7df"
      },
      "execution_count": 39,
      "outputs": [
        {
          "output_type": "stream",
          "name": "stdout",
          "text": [
            "<class 'pandas.core.frame.DataFrame'>\n",
            "RangeIndex: 5 entries, 0 to 4\n",
            "Data columns (total 10 columns):\n",
            " #   Column               Non-Null Count  Dtype  \n",
            "---  ------               --------------  -----  \n",
            " 0   Employee_id          5 non-null      int64  \n",
            " 1   Name                 5 non-null      object \n",
            " 2   Department           5 non-null      object \n",
            " 3   Age                  5 non-null      int64  \n",
            " 4   Salary               5 non-null      int64  \n",
            " 5   Years_of_experience  5 non-null      int64  \n",
            " 6   Joining_date         5 non-null      object \n",
            " 7   Gender               5 non-null      object \n",
            " 8   Bonus                5 non-null      int64  \n",
            " 9   Rating               5 non-null      float64\n",
            "dtypes: float64(1), int64(5), object(4)\n",
            "memory usage: 532.0+ bytes\n",
            "\n",
            "Summary of the DataFrame: None\n"
          ]
        }
      ]
    },
    {
      "cell_type": "code",
      "source": [
        "# 6(c)\n",
        "print(\"\\nDescriptive Statistics:\",df.describe())"
      ],
      "metadata": {
        "colab": {
          "base_uri": "https://localhost:8080/"
        },
        "id": "aA6VQoz9TIml",
        "outputId": "2529eaa2-fb73-45fd-9c3c-e57f7698ba8c"
      },
      "execution_count": 40,
      "outputs": [
        {
          "output_type": "stream",
          "name": "stdout",
          "text": [
            "\n",
            "Descriptive Statistics:        Employee_id        Age       Salary  Years_of_experience   Bonus  \\\n",
            "count     5.000000   5.000000      5.00000             5.000000     5.0   \n",
            "mean    103.000000  32.200000  60000.00000             7.400000  5500.0   \n",
            "std       1.581139   5.449771   7905.69415             3.847077  1000.0   \n",
            "min     101.000000  28.000000  50000.00000             3.000000  4500.0   \n",
            "25%     102.000000  29.000000  55000.00000             4.000000  5000.0   \n",
            "50%     103.000000  29.000000  60000.00000             8.000000  5000.0   \n",
            "75%     104.000000  34.000000  65000.00000            10.000000  6000.0   \n",
            "max     105.000000  41.000000  70000.00000            12.000000  7000.0   \n",
            "\n",
            "         Rating  \n",
            "count  5.000000  \n",
            "mean   4.100000  \n",
            "std    0.494975  \n",
            "min    3.500000  \n",
            "25%    3.800000  \n",
            "50%    4.000000  \n",
            "75%    4.500000  \n",
            "max    4.700000  \n"
          ]
        }
      ]
    },
    {
      "cell_type": "code",
      "source": [
        "# 6(d)\n",
        "print(\"\\nFirst 5 rows:\")\n",
        "print(df.head())\n",
        "\n",
        "print(\"\\nLast 3 rows:\")\n",
        "print(df.tail(3))"
      ],
      "metadata": {
        "colab": {
          "base_uri": "https://localhost:8080/"
        },
        "id": "YcY5kJaFTcFB",
        "outputId": "d0ba0e54-9034-47ee-891a-aa4c1a854a60"
      },
      "execution_count": 41,
      "outputs": [
        {
          "output_type": "stream",
          "name": "stdout",
          "text": [
            "\n",
            "First 5 rows:\n",
            "   Employee_id     Name Department  Age  Salary  Years_of_experience  \\\n",
            "0          101    Alice         HR   29   50000                    4   \n",
            "1          102      Bob         IT   34   70000                    8   \n",
            "2          103  Charlie         IT   41   65000                   10   \n",
            "3          104    Diana  Marketing   28   55000                    3   \n",
            "4          105   Edward      Sales   29   60000                   12   \n",
            "\n",
            "  Joining_date  Gender  Bonus  Rating  \n",
            "0    3/15/2020  female   5000     4.5  \n",
            "1    7/19/2017    male   7000     4.0  \n",
            "2     6/1/2013    male   6000     3.8  \n",
            "3    2/10/2021  female   4500     4.7  \n",
            "4   11/25/2010    male   5000     3.5  \n",
            "\n",
            "Last 3 rows:\n",
            "   Employee_id     Name Department  Age  Salary  Years_of_experience  \\\n",
            "2          103  Charlie         IT   41   65000                   10   \n",
            "3          104    Diana  Marketing   28   55000                    3   \n",
            "4          105   Edward      Sales   29   60000                   12   \n",
            "\n",
            "  Joining_date  Gender  Bonus  Rating  \n",
            "2     6/1/2013    male   6000     3.8  \n",
            "3    2/10/2021  female   4500     4.7  \n",
            "4   11/25/2010    male   5000     3.5  \n"
          ]
        }
      ]
    },
    {
      "cell_type": "code",
      "source": [
        "# 6(e)-(i)\n",
        "print(\"Average salary : \",df['Salary'].mean())"
      ],
      "metadata": {
        "colab": {
          "base_uri": "https://localhost:8080/"
        },
        "id": "wdgv_TcqTr7l",
        "outputId": "801f4a48-6cca-42ee-a698-6c73767b7a16"
      },
      "execution_count": 42,
      "outputs": [
        {
          "output_type": "stream",
          "name": "stdout",
          "text": [
            "Average salary :  60000.0\n"
          ]
        }
      ]
    },
    {
      "cell_type": "code",
      "source": [
        "# 6(e)-(ii)\n",
        "print(\"Total bonus paid : \",df['Bonus'].sum())"
      ],
      "metadata": {
        "colab": {
          "base_uri": "https://localhost:8080/"
        },
        "id": "zBu5MKy9UFKa",
        "outputId": "6c7860f3-73d2-41d6-9183-7a8b604f60b6"
      },
      "execution_count": 45,
      "outputs": [
        {
          "output_type": "stream",
          "name": "stdout",
          "text": [
            "Total bonus paid :  27500\n"
          ]
        }
      ]
    },
    {
      "cell_type": "code",
      "source": [
        "# 6(e)-(iii)\n",
        "print(\"Youngest employee age : \",df['Age'].min())"
      ],
      "metadata": {
        "colab": {
          "base_uri": "https://localhost:8080/"
        },
        "id": "XdLxBpXiUfyC",
        "outputId": "2142f078-1c58-47d3-9b80-1e0e1e2f8ed5"
      },
      "execution_count": 46,
      "outputs": [
        {
          "output_type": "stream",
          "name": "stdout",
          "text": [
            "Youngest employee age :  28\n"
          ]
        }
      ]
    },
    {
      "cell_type": "code",
      "source": [
        "# 6(e)-(iv)\n",
        "print(\"Highest performance rating : \",df['Rating'].max())"
      ],
      "metadata": {
        "colab": {
          "base_uri": "https://localhost:8080/"
        },
        "id": "RV-Ak63wVLbY",
        "outputId": "b6181fe7-60f1-4f41-c0e7-468807f888f1"
      },
      "execution_count": 48,
      "outputs": [
        {
          "output_type": "stream",
          "name": "stdout",
          "text": [
            "Highest performance rating :  4.7\n"
          ]
        }
      ]
    },
    {
      "cell_type": "code",
      "source": [
        "# 6(f)\n",
        "new_df=df.sort_values(by='Salary',ascending=False)\n",
        "print(new_df)"
      ],
      "metadata": {
        "colab": {
          "base_uri": "https://localhost:8080/"
        },
        "id": "wcSoj3VBVbLz",
        "outputId": "cc86d9b0-e252-4687-aa79-184cc84dafe1"
      },
      "execution_count": 51,
      "outputs": [
        {
          "output_type": "stream",
          "name": "stdout",
          "text": [
            "   Employee_id     Name Department  Age  Salary  Years_of_experience  \\\n",
            "1          102      Bob         IT   34   70000                    8   \n",
            "2          103  Charlie         IT   41   65000                   10   \n",
            "4          105   Edward      Sales   29   60000                   12   \n",
            "3          104    Diana  Marketing   28   55000                    3   \n",
            "0          101    Alice         HR   29   50000                    4   \n",
            "\n",
            "  Joining_date  Gender  Bonus  Rating  \n",
            "1    7/19/2017    male   7000     4.0  \n",
            "2     6/1/2013    male   6000     3.8  \n",
            "4   11/25/2010    male   5000     3.5  \n",
            "3    2/10/2021  female   4500     4.7  \n",
            "0    3/15/2020  female   5000     4.5  \n"
          ]
        }
      ]
    },
    {
      "cell_type": "code",
      "source": [
        "# 6(g)\n",
        "def categorize_performance(Rating):\n",
        "    if Rating >= 4.5:\n",
        "        return \"Excellent\"\n",
        "    elif Rating >= 4.0:\n",
        "        return \"Good\"\n",
        "    else:\n",
        "        return \"Average\"\n",
        "\n",
        "df['Performance'] = df['Rating'].apply(categorize_performance)\n",
        "print(df)"
      ],
      "metadata": {
        "colab": {
          "base_uri": "https://localhost:8080/"
        },
        "id": "jgPD0TIPWOAS",
        "outputId": "3d730fdf-a45f-4dd1-ebe6-e905c84b5913"
      },
      "execution_count": 52,
      "outputs": [
        {
          "output_type": "stream",
          "name": "stdout",
          "text": [
            "   Employee_id     Name Department  Age  Salary  Years_of_experience  \\\n",
            "0          101    Alice         HR   29   50000                    4   \n",
            "1          102      Bob         IT   34   70000                    8   \n",
            "2          103  Charlie         IT   41   65000                   10   \n",
            "3          104    Diana  Marketing   28   55000                    3   \n",
            "4          105   Edward      Sales   29   60000                   12   \n",
            "\n",
            "  Joining_date  Gender  Bonus  Rating Performance  \n",
            "0    3/15/2020  female   5000     4.5   Excellent  \n",
            "1    7/19/2017    male   7000     4.0        Good  \n",
            "2     6/1/2013    male   6000     3.8     Average  \n",
            "3    2/10/2021  female   4500     4.7   Excellent  \n",
            "4   11/25/2010    male   5000     3.5     Average  \n"
          ]
        }
      ]
    },
    {
      "cell_type": "code",
      "source": [
        "# 6(h)\n",
        "miss_val=df.isnull().sum()\n",
        "print(miss_val)"
      ],
      "metadata": {
        "colab": {
          "base_uri": "https://localhost:8080/"
        },
        "id": "kTPWo4NSWcey",
        "outputId": "8847402f-bcab-4a4a-cc74-a965899fcd3e"
      },
      "execution_count": 53,
      "outputs": [
        {
          "output_type": "stream",
          "name": "stdout",
          "text": [
            "Employee_id            0\n",
            "Name                   0\n",
            "Department             0\n",
            "Age                    0\n",
            "Salary                 0\n",
            "Years_of_experience    0\n",
            "Joining_date           0\n",
            "Gender                 0\n",
            "Bonus                  0\n",
            "Rating                 0\n",
            "Performance            0\n",
            "dtype: int64\n"
          ]
        }
      ]
    },
    {
      "cell_type": "code",
      "source": [
        "# 6(i)\n",
        "df.rename(columns={\"Employee_id\": \"ID\"}, inplace=True)\n",
        "print(df)"
      ],
      "metadata": {
        "colab": {
          "base_uri": "https://localhost:8080/"
        },
        "id": "52BR3rAnWdeV",
        "outputId": "76c168e9-ada9-493d-f107-37cf931aae99"
      },
      "execution_count": 57,
      "outputs": [
        {
          "output_type": "stream",
          "name": "stdout",
          "text": [
            "    ID     Name Department  Age  Salary  Years_of_experience Joining_date  \\\n",
            "0  101    Alice         HR   29   50000                    4    3/15/2020   \n",
            "1  102      Bob         IT   34   70000                    8    7/19/2017   \n",
            "2  103  Charlie         IT   41   65000                   10     6/1/2013   \n",
            "3  104    Diana  Marketing   28   55000                    3    2/10/2021   \n",
            "4  105   Edward      Sales   29   60000                   12   11/25/2010   \n",
            "\n",
            "   Gender  Bonus  Rating Performance  \n",
            "0  female   5000     4.5   Excellent  \n",
            "1    male   7000     4.0        Good  \n",
            "2    male   6000     3.8     Average  \n",
            "3  female   4500     4.7   Excellent  \n",
            "4    male   5000     3.5     Average  \n"
          ]
        }
      ]
    },
    {
      "cell_type": "code",
      "source": [
        "# 6(j)-(i)\n",
        "experienced_emp=df[df['Years_of_experience']>5]\n",
        "print(experienced_emp)"
      ],
      "metadata": {
        "colab": {
          "base_uri": "https://localhost:8080/"
        },
        "id": "dC21_F4YZCKY",
        "outputId": "c6daee03-4055-4cd8-8371-ff5778f63471"
      },
      "execution_count": 59,
      "outputs": [
        {
          "output_type": "stream",
          "name": "stdout",
          "text": [
            "    ID     Name Department  Age  Salary  Years_of_experience Joining_date  \\\n",
            "1  102      Bob         IT   34   70000                    8    7/19/2017   \n",
            "2  103  Charlie         IT   41   65000                   10     6/1/2013   \n",
            "4  105   Edward      Sales   29   60000                   12   11/25/2010   \n",
            "\n",
            "  Gender  Bonus  Rating Performance  \n",
            "1   male   7000     4.0        Good  \n",
            "2   male   6000     3.8     Average  \n",
            "4   male   5000     3.5     Average  \n"
          ]
        }
      ]
    },
    {
      "cell_type": "code",
      "source": [
        "# 6(j)-(ii)\n",
        "IT_dept=df[df['Department']=='IT']\n",
        "print(IT_dept)"
      ],
      "metadata": {
        "colab": {
          "base_uri": "https://localhost:8080/"
        },
        "id": "LoqBwBomZlZU",
        "outputId": "e557dbfa-55d6-419c-97b1-8cd3d2658cf9"
      },
      "execution_count": 60,
      "outputs": [
        {
          "output_type": "stream",
          "name": "stdout",
          "text": [
            "    ID     Name Department  Age  Salary  Years_of_experience Joining_date  \\\n",
            "1  102      Bob         IT   34   70000                    8    7/19/2017   \n",
            "2  103  Charlie         IT   41   65000                   10     6/1/2013   \n",
            "\n",
            "  Gender  Bonus  Rating Performance  \n",
            "1   male   7000     4.0        Good  \n",
            "2   male   6000     3.8     Average  \n"
          ]
        }
      ]
    },
    {
      "cell_type": "code",
      "source": [
        "# 6(k)\n",
        "df['Tax']=df['Salary']*0.1\n",
        "print(df)"
      ],
      "metadata": {
        "colab": {
          "base_uri": "https://localhost:8080/"
        },
        "id": "UnqGG-i6Z4OW",
        "outputId": "78e22477-7514-4f77-f616-aeecacf05e30"
      },
      "execution_count": 61,
      "outputs": [
        {
          "output_type": "stream",
          "name": "stdout",
          "text": [
            "    ID     Name Department  Age  Salary  Years_of_experience Joining_date  \\\n",
            "0  101    Alice         HR   29   50000                    4    3/15/2020   \n",
            "1  102      Bob         IT   34   70000                    8    7/19/2017   \n",
            "2  103  Charlie         IT   41   65000                   10     6/1/2013   \n",
            "3  104    Diana  Marketing   28   55000                    3    2/10/2021   \n",
            "4  105   Edward      Sales   29   60000                   12   11/25/2010   \n",
            "\n",
            "   Gender  Bonus  Rating Performance     Tax  \n",
            "0  female   5000     4.5   Excellent  5000.0  \n",
            "1    male   7000     4.0        Good  7000.0  \n",
            "2    male   6000     3.8     Average  6500.0  \n",
            "3  female   4500     4.7   Excellent  5500.0  \n",
            "4    male   5000     3.5     Average  6000.0  \n"
          ]
        }
      ]
    },
    {
      "cell_type": "code",
      "source": [
        "# 6(l)\n",
        "output_file = \"modified_emp_data.csv\"\n",
        "df.to_csv(output_file, index=False)\n",
        "print(f\"Modified DataFrame saved to {output_file}\")"
      ],
      "metadata": {
        "colab": {
          "base_uri": "https://localhost:8080/"
        },
        "id": "dfqnyzh8aX06",
        "outputId": "73eff4d9-3a2e-4710-ffed-d724007c9735"
      },
      "execution_count": 62,
      "outputs": [
        {
          "output_type": "stream",
          "name": "stdout",
          "text": [
            "Modified DataFrame saved to modified_emp_data.csv\n"
          ]
        }
      ]
    }
  ]
}